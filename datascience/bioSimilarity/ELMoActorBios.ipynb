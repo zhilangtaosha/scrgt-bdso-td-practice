{
 "cells": [
  {
   "cell_type": "markdown",
   "metadata": {},
   "source": []
  },
  {
   "cell_type": "markdown",
   "metadata": {
    "colab_type": "text",
    "id": "-q8JYD36CdYr"
   },
   "source": [
    "## Imports:"
   ]
  },
  {
   "cell_type": "code",
   "execution_count": 4,
   "metadata": {
    "colab": {
     "base_uri": "https://localhost:8080/",
     "height": 608
    },
    "colab_type": "code",
    "id": "_Qgy7Jmr5wSx",
    "outputId": "0e337fd6-d854-4e17-a74f-7b4c8d087b69"
   },
   "outputs": [
    {
     "ename": "ModuleNotFoundError",
     "evalue": "No module named 'spacy'",
     "output_type": "error",
     "traceback": [
      "\u001b[0;31m---------------------------------------------------------------------------\u001b[0m",
      "\u001b[0;31mModuleNotFoundError\u001b[0m                       Traceback (most recent call last)",
      "\u001b[0;32m<ipython-input-4-d9a909ed7f35>\u001b[0m in \u001b[0;36m<module>\u001b[0;34m\u001b[0m\n\u001b[1;32m      6\u001b[0m \u001b[0;32mfrom\u001b[0m \u001b[0msklearn\u001b[0m \u001b[0;32mimport\u001b[0m \u001b[0mpreprocessing\u001b[0m\u001b[0;34m\u001b[0m\u001b[0;34m\u001b[0m\u001b[0m\n\u001b[1;32m      7\u001b[0m \u001b[0;34m\u001b[0m\u001b[0m\n\u001b[0;32m----> 8\u001b[0;31m \u001b[0;32mimport\u001b[0m \u001b[0mspacy\u001b[0m\u001b[0;34m\u001b[0m\u001b[0;34m\u001b[0m\u001b[0m\n\u001b[0m\u001b[1;32m      9\u001b[0m \u001b[0;32mfrom\u001b[0m \u001b[0mspacy\u001b[0m\u001b[0;34m.\u001b[0m\u001b[0mlang\u001b[0m\u001b[0;34m.\u001b[0m\u001b[0men\u001b[0m \u001b[0;32mimport\u001b[0m \u001b[0mEnglish\u001b[0m\u001b[0;34m\u001b[0m\u001b[0;34m\u001b[0m\u001b[0m\n\u001b[1;32m     10\u001b[0m \u001b[0;32mfrom\u001b[0m \u001b[0mspacy\u001b[0m \u001b[0;32mimport\u001b[0m \u001b[0mdisplacy\u001b[0m\u001b[0;34m\u001b[0m\u001b[0;34m\u001b[0m\u001b[0m\n",
      "\u001b[0;31mModuleNotFoundError\u001b[0m: No module named 'spacy'"
     ]
    }
   ],
   "source": [
    "import os\n",
    "import numpy as np\n",
    "import pandas as pd\n",
    "import tensorflow as tf\n",
    "import tensorflow_hub as hub\n",
    "from sklearn import preprocessing\n",
    "\n",
    "import spacy\n",
    "from spacy.lang.en import English\n",
    "from spacy import displacy\n",
    "nlp = spacy.load('en')\n",
    "from IPython.display import HTML\n",
    "import logging\n",
    "logging.getLogger('tensorflow').disabled = True #OPTIONAL - to disable outputs from Tensorflow"
   ]
  },
  {
   "cell_type": "markdown",
   "metadata": {
    "colab_type": "text",
    "id": "FxkL4RXwVToa"
   },
   "source": [
    "## Create sentence embeddings from Elmo via TensorFlow Hub\n",
    "https://tfhub.dev/google/elmo/1"
   ]
  },
  {
   "cell_type": "code",
   "execution_count": 5,
   "metadata": {
    "colab": {},
    "colab_type": "code",
    "id": "UIhHrFsmOC6C"
   },
   "outputs": [],
   "source": [
    "url = \"https://tfhub.dev/google/elmo/2\"\n",
    "embed = hub.Module(url)"
   ]
  },
  {
   "cell_type": "markdown",
   "metadata": {},
   "source": [
    "## Read Plot Sentences"
   ]
  },
  {
   "cell_type": "code",
   "execution_count": 6,
   "metadata": {},
   "outputs": [],
   "source": [
    "# Change Directory to Data\n",
    "# read from data\n",
    "# Create elmoWeights Folder, in not exists\n",
    "# Write weights to data/emloWeights\n",
    "\n",
    "import os\n",
    "rootdir = '/Users/jasonboada/Desktop/cis/'\n",
    "\n",
    "# elmodir = os.path.join(datadir, 'elmoWeightsAll') \n",
    "elmodir = rootdir+'elmoWeightsAll'\n",
    "\n",
    "# datadir = os.path.join(rootdir, 'data') \n",
    "datadir = '/Users/jasonboada/Desktop/cis/scrgt-bdso-cc-datascience/datapipeline/data/person/themoviedb/'\n",
    "\n",
    "os.chdir(datadir)\n",
    "\n",
    "# create elmoWeights directory - if it does not exist\n",
    "if not os.path.exists(elmodir):\n",
    "    os.makedirs(elmodir) "
   ]
  },
  {
   "cell_type": "markdown",
   "metadata": {},
   "source": [
    "## READ PLOT DATA - ALL from PKL file"
   ]
  },
  {
   "cell_type": "code",
   "execution_count": 10,
   "metadata": {},
   "outputs": [],
   "source": [
    "import json\n",
    "bio_dict = {}\n",
    "for f in os.listdir(datadir):\n",
    "    data = json.load(open(datadir+f))\n",
    "    bio = data[\"biography\"]\n",
    "    bio_dict[data[\"id\"]] = bio"
   ]
  },
  {
   "cell_type": "code",
   "execution_count": 63,
   "metadata": {},
   "outputs": [],
   "source": [
    "      \n",
    "sentencesAll = list(bio_dict.values())"
   ]
  },
  {
   "cell_type": "code",
   "execution_count": null,
   "metadata": {},
   "outputs": [],
   "source": [
    "sentencesAll"
   ]
  },
  {
   "cell_type": "code",
   "execution_count": 18,
   "metadata": {},
   "outputs": [],
   "source": [
    "def cleanSentences(sentences):\n",
    "    punctuation = '!\"#$%&()*+-/:;<=>?@[\\\\]^_`{|}~'  #TBD\n",
    "        #TBD - find sentence splitter - \n",
    "        # remove punctuation, strip white space; remove non-standard characters; remove numbers; \n",
    "    i = 0\n",
    "    for s in sentences:\n",
    "        s = s.strip()\n",
    "        s = s.lower().replace('\\n', ' ').replace('\\t', ' ').replace('\\xa0',' ').replace(\"[0-9]\", \" \")\n",
    "        s = s.replace(',', '').replace('.','') #TBD - replace with punctuation\n",
    "        s = s[0:280]\n",
    "        sentences[i] = s\n",
    "        i += 1\n",
    "    return sentences"
   ]
  },
  {
   "cell_type": "code",
   "execution_count": 19,
   "metadata": {},
   "outputs": [],
   "source": [
    "# FOR Data Frame Inputs\n",
    "# sentencesDF = moviePlots.values.tolist()\n",
    "# sentencesDF = plotDF['Plot'].tolist()\n",
    "# sentences = cleanSentences(sentencesDF)\n",
    "\n",
    "# For Pickle Input\n",
    "sentences = cleanSentences(sentencesAll)"
   ]
  },
  {
   "cell_type": "code",
   "execution_count": 20,
   "metadata": {},
   "outputs": [
    {
     "data": {
      "text/plain": [
       "\"a welsh-born english actor in addition to starring roles in big budget hollywood films he has long been heavily involved in films produced by independent producers and art houses bale first caught the public eye when he was cast in the starring role of steven spielberg's empire o\""
      ]
     },
     "execution_count": 20,
     "metadata": {},
     "output_type": "execute_result"
    }
   ],
   "source": [
    "# Test - \n",
    "sentences[99]\n",
    "# len(sentences)"
   ]
  },
  {
   "cell_type": "markdown",
   "metadata": {},
   "source": [
    "# Score Sentences in Batches"
   ]
  },
  {
   "cell_type": "code",
   "execution_count": 21,
   "metadata": {
    "colab": {
     "base_uri": "https://localhost:8080/",
     "height": 51
    },
    "colab_type": "code",
    "id": "HsGkzCltOMOl",
    "outputId": "8c4dfea2-0b4d-4ad2-cc73-b7c6aab18030"
   },
   "outputs": [],
   "source": [
    "# score n Sentences at time - to pipeline this\n",
    "def defineEmbeddings (start, end):    \n",
    "    embeddings = embed(\n",
    "        sentences[start:end],\n",
    "        signature=\"default\",\n",
    "        as_dict=True)[\"default\"]\n",
    "    return embeddings"
   ]
  },
  {
   "cell_type": "code",
   "execution_count": 22,
   "metadata": {
    "colab": {
     "base_uri": "https://localhost:8080/",
     "height": 51
    },
    "colab_type": "code",
    "id": "oA6BO4a_Oswf",
    "outputId": "13433258-113e-433e-94a2-b61cb44caf13"
   },
   "outputs": [],
   "source": [
    "# score sentences\n",
    "def scoreSentences (embeddings):\n",
    "    %%time\n",
    "\n",
    "    with tf.Session() as sess:\n",
    "        sess.run(tf.global_variables_initializer())\n",
    "        sess.run(tf.tables_initializer())\n",
    "        x = sess.run(embeddings)\n",
    "    return x"
   ]
  },
  {
   "cell_type": "code",
   "execution_count": 23,
   "metadata": {},
   "outputs": [],
   "source": [
    "# Save Weights - use names based on Movie \n",
    "import pickle as pkl\n",
    "\n",
    "def saveWeights(elmoFN, x):\n",
    "    os.chdir(elmodir)\n",
    "    with open(elmoFN,'wb') as f: pkl.dump(x, f)\n",
    "    # TBD - Close pkl?\n",
    "    return"
   ]
  },
  {
   "cell_type": "markdown",
   "metadata": {},
   "source": [
    "## Score N sentences at a time\n",
    "## DO NOT EXECUTE unless we change the sentences  (15,316)"
   ]
  },
  {
   "cell_type": "code",
   "execution_count": 24,
   "metadata": {},
   "outputs": [
    {
     "name": "stdout",
     "output_type": "stream",
     "text": [
      "Score sentences: elmoIMDBweights0to500.pkl\n",
      "CPU times: user 4 µs, sys: 1 µs, total: 5 µs\n",
      "Wall time: 8.11 µs\n"
     ]
    }
   ],
   "source": [
    "import math \n",
    "\n",
    "n = 500                      # Specify number of sentences per file  (was 500)\n",
    "numPlots = len(sentences)\n",
    "numfiles = math.ceil(numPlots/n) \n",
    "\n",
    "start = 0\n",
    "end = n\n",
    "for file in range(1,numfiles+1):\n",
    "    elmoFN = 'elmoIMDBweights' + str(start) + 'to' + str(end) + '.pkl'\n",
    "    print('Score sentences:', elmoFN)\n",
    "\n",
    "        # Define Embeddings, Score, and Store Weights one Batch of N at time\n",
    "    embeddings = defineEmbeddings(start, end)\n",
    "    x = scoreSentences(embeddings)\n",
    "    saveWeights(elmoFN,x)\n",
    "    start = end\n",
    "    end = end+n"
   ]
  },
  {
   "cell_type": "markdown",
   "metadata": {},
   "source": [
    "## Read and Concatenate all weight arrays in elmoWeights to build\n",
    "\n",
    "TBD limit to a segment (e.g., Drama)\n"
   ]
  },
  {
   "cell_type": "code",
   "execution_count": 35,
   "metadata": {},
   "outputs": [],
   "source": [
    "# Read Weights - use names based on Movie \n",
    "# TBD - add row num -- TBD Save with Movie ID \n",
    "# TBD - missing a row ERROR\n",
    "import pickle as pkl\n",
    "import numpy as np\n",
    "import glob\n",
    "\n",
    "def readElmoWeightFile(file):\n",
    "    with open(file, 'rb') as f:\n",
    "        elmo_file = pkl.load(f)\n",
    "    return list(elmo_file)\n",
    "  \n",
    "# xin = readWeights(elmodir) # Removed this approach - Need to read weights in order\n",
    "def readWeights(elmodir):\n",
    "    \n",
    "    xin = readElmoWeightFile('elmoIMDBweights0to500.pkl')\n",
    "\n",
    "    return xin"
   ]
  },
  {
   "cell_type": "code",
   "execution_count": 36,
   "metadata": {},
   "outputs": [
    {
     "data": {
      "text/plain": [
       "'/Users/jasonboada/Desktop/cis/elmoWeightsAll'"
      ]
     },
     "execution_count": 36,
     "metadata": {},
     "output_type": "execute_result"
    }
   ],
   "source": [
    "pwd"
   ]
  },
  {
   "cell_type": "code",
   "execution_count": 37,
   "metadata": {},
   "outputs": [
    {
     "data": {
      "text/plain": [
       "100"
      ]
     },
     "execution_count": 37,
     "metadata": {},
     "output_type": "execute_result"
    }
   ],
   "source": [
    "os.chdir(elmodir)\n",
    "xin = readWeights(elmodir)\n",
    "len(xin) # 15316"
   ]
  },
  {
   "cell_type": "code",
   "execution_count": 1,
   "metadata": {},
   "outputs": [],
   "source": [
    "import pickle\n",
    "import json\n",
    "\n",
    "bio_dict = pickle.load( open( './models/bio_dict.pkl', 'rb' ) )\n",
    "xin = pickle.load( open( './models/elmoIMDBweights0to500.pkl', 'rb' ) )\n"
   ]
  },
  {
   "cell_type": "code",
   "execution_count": null,
   "metadata": {},
   "outputs": [],
   "source": [
    "bio_dict"
   ]
  },
  {
   "cell_type": "code",
   "execution_count": 5,
   "metadata": {},
   "outputs": [
    {
     "data": {
      "text/html": [
       "<div>\n",
       "<style scoped>\n",
       "    .dataframe tbody tr th:only-of-type {\n",
       "        vertical-align: middle;\n",
       "    }\n",
       "\n",
       "    .dataframe tbody tr th {\n",
       "        vertical-align: top;\n",
       "    }\n",
       "\n",
       "    .dataframe thead th {\n",
       "        text-align: right;\n",
       "    }\n",
       "</style>\n",
       "<table border=\"1\" class=\"dataframe\">\n",
       "  <thead>\n",
       "    <tr style=\"text-align: right;\">\n",
       "      <th></th>\n",
       "      <th>Rank</th>\n",
       "      <th>Actor</th>\n",
       "    </tr>\n",
       "  </thead>\n",
       "  <tbody>\n",
       "    <tr>\n",
       "      <th>0</th>\n",
       "      <td>1</td>\n",
       "      <td>Robert Downey Jr.</td>\n",
       "    </tr>\n",
       "    <tr>\n",
       "      <th>1</th>\n",
       "      <td>2</td>\n",
       "      <td>Samuel L. Jackson</td>\n",
       "    </tr>\n",
       "    <tr>\n",
       "      <th>2</th>\n",
       "      <td>3</td>\n",
       "      <td>Scarlett Johansson</td>\n",
       "    </tr>\n",
       "    <tr>\n",
       "      <th>3</th>\n",
       "      <td>4</td>\n",
       "      <td>Tom Hanks</td>\n",
       "    </tr>\n",
       "    <tr>\n",
       "      <th>4</th>\n",
       "      <td>5</td>\n",
       "      <td>Bradley Cooper</td>\n",
       "    </tr>\n",
       "  </tbody>\n",
       "</table>\n",
       "</div>"
      ],
      "text/plain": [
       "  Rank               Actor\n",
       "0    1   Robert Downey Jr.\n",
       "1    2   Samuel L. Jackson\n",
       "2    3  Scarlett Johansson\n",
       "3    4           Tom Hanks\n",
       "4    5      Bradley Cooper"
      ]
     },
     "execution_count": 5,
     "metadata": {},
     "output_type": "execute_result"
    }
   ],
   "source": [
    "celebrities =pd.read_csv('./models/celebrityLookup.csv' , names=['Rank', 'Actor'], dtype=str)\n",
    "celebrities.head()"
   ]
  },
  {
   "cell_type": "code",
   "execution_count": 6,
   "metadata": {},
   "outputs": [
    {
     "data": {
      "text/plain": [
       "'Harrison Ford'"
      ]
     },
     "execution_count": 6,
     "metadata": {},
     "output_type": "execute_result"
    }
   ],
   "source": [
    "celebrityLookup={}\n",
    "for i, row in celebrities.iterrows():\n",
    "    celebrityLookup.update({ row['Rank'] : row['Actor']})\n",
    "\n",
    "celebrityLookup['10']"
   ]
  },
  {
   "cell_type": "code",
   "execution_count": null,
   "metadata": {},
   "outputs": [],
   "source": []
  },
  {
   "cell_type": "code",
   "execution_count": 7,
   "metadata": {},
   "outputs": [
    {
     "data": {
      "text/plain": [
       "1024"
      ]
     },
     "execution_count": 7,
     "metadata": {},
     "output_type": "execute_result"
    }
   ],
   "source": [
    "len(xin[1])"
   ]
  },
  {
   "cell_type": "code",
   "execution_count": 14,
   "metadata": {},
   "outputs": [],
   "source": [
    "import requests\n",
    "from pprint import pprint\n",
    "from datetime import datetime\n",
    "from elasticsearch import Elasticsearch\n",
    "import json\n",
    "\n",
    "\n",
    "ESHOST='localhost'\n",
    "ESPORT='9200'\n",
    "#https://elasticsearch-dev.ocp.bdso.salientcrgt-bdso.com/\n",
    "# ESHOST ='elasticsearch-dev.ocp.bdso.salientcrgt-bdso.com'\n",
    "# ESPORT='80'\n",
    "es= Elasticsearch([{'host':ESHOST,'port':ESPORT}])\n",
    "# es=Elasticsearch(['http://localhost:9200/'])\n",
    "_index='bios'\n",
    "esIndex = 'http://'+ESHOST+':'+ESPORT+'/'+_index    \n",
    "_doc= 'bio'\n",
    "\n",
    "headers={\"Content-Type\": \"application/json\"}"
   ]
  },
  {
   "cell_type": "code",
   "execution_count": 15,
   "metadata": {},
   "outputs": [
    {
     "data": {
      "text/plain": [
       "{'acknowledged': True, 'shards_acknowledged': True, 'index': 'bios'}"
      ]
     },
     "execution_count": 15,
     "metadata": {},
     "output_type": "execute_result"
    }
   ],
   "source": [
    "request_body = {\n",
    "  \"mappings\": {\n",
    "    \"properties\": {\n",
    "      \"_actorID\" : {\n",
    "        \"type\" : \"keyword\"\n",
    "      },  \n",
    "      \"celebrity\" : {\n",
    "        \"type\" : \"keyword\"\n",
    "      },         \n",
    "      \"bio_vector\": {\n",
    "        \"type\": \"dense_vector\",\n",
    "        \"dims\": len(xin[0])\n",
    "      }\n",
    "\n",
    "    }\n",
    "  }\n",
    "}\n",
    "\n",
    "try:\n",
    "    es.indices.delete(index = _index)\n",
    "except:\n",
    "    pass\n",
    "    \n",
    "es.indices.create(index = _index, body = request_body)"
   ]
  },
  {
   "cell_type": "code",
   "execution_count": 16,
   "metadata": {},
   "outputs": [
    {
     "name": "stdout",
     "output_type": "stream",
     "text": [
      "{\"_index\":\"bios\",\"_type\":\"_doc\",\"_id\":\"49\",\"_version\":1,\"result\":\"created\",\"_shards\":{\"total\":2,\"successful\":1,\"failed\":0},\"_seq_no\":0,\"_primary_term\":1}\n",
      "{\"_index\":\"bios\",\"_type\":\"_doc\",\"_id\":\"6\",\"_version\":1,\"result\":\"created\",\"_shards\":{\"total\":2,\"successful\":1,\"failed\":0},\"_seq_no\":1,\"_primary_term\":1}\n",
      "{\"_index\":\"bios\",\"_type\":\"_doc\",\"_id\":\"73\",\"_version\":1,\"result\":\"created\",\"_shards\":{\"total\":2,\"successful\":1,\"failed\":0},\"_seq_no\":2,\"_primary_term\":1}\n",
      "{\"_index\":\"bios\",\"_type\":\"_doc\",\"_id\":\"24\",\"_version\":1,\"result\":\"created\",\"_shards\":{\"total\":2,\"successful\":1,\"failed\":0},\"_seq_no\":3,\"_primary_term\":1}\n",
      "{\"_index\":\"bios\",\"_type\":\"_doc\",\"_id\":\"32\",\"_version\":1,\"result\":\"created\",\"_shards\":{\"total\":2,\"successful\":1,\"failed\":0},\"_seq_no\":4,\"_primary_term\":1}\n",
      "{\"_index\":\"bios\",\"_type\":\"_doc\",\"_id\":\"65\",\"_version\":1,\"result\":\"created\",\"_shards\":{\"total\":2,\"successful\":1,\"failed\":0},\"_seq_no\":5,\"_primary_term\":1}\n",
      "{\"_index\":\"bios\",\"_type\":\"_doc\",\"_id\":\"12\",\"_version\":1,\"result\":\"created\",\"_shards\":{\"total\":2,\"successful\":1,\"failed\":0},\"_seq_no\":6,\"_primary_term\":1}\n",
      "{\"_index\":\"bios\",\"_type\":\"_doc\",\"_id\":\"45\",\"_version\":1,\"result\":\"created\",\"_shards\":{\"total\":2,\"successful\":1,\"failed\":0},\"_seq_no\":7,\"_primary_term\":1}\n",
      "{\"_index\":\"bios\",\"_type\":\"_doc\",\"_id\":\"53\",\"_version\":1,\"result\":\"created\",\"_shards\":{\"total\":2,\"successful\":1,\"failed\":0},\"_seq_no\":8,\"_primary_term\":1}\n",
      "{\"_index\":\"bios\",\"_type\":\"_doc\",\"_id\":\"90\",\"_version\":1,\"result\":\"created\",\"_shards\":{\"total\":2,\"successful\":1,\"failed\":0},\"_seq_no\":9,\"_primary_term\":1}\n",
      "{\"_index\":\"bios\",\"_type\":\"_doc\",\"_id\":\"28\",\"_version\":1,\"result\":\"created\",\"_shards\":{\"total\":2,\"successful\":1,\"failed\":0},\"_seq_no\":10,\"_primary_term\":1}\n",
      "{\"_index\":\"bios\",\"_type\":\"_doc\",\"_id\":\"69\",\"_version\":1,\"result\":\"created\",\"_shards\":{\"total\":2,\"successful\":1,\"failed\":0},\"_seq_no\":11,\"_primary_term\":1}\n",
      "{\"_index\":\"bios\",\"_type\":\"_doc\",\"_id\":\"86\",\"_version\":1,\"result\":\"created\",\"_shards\":{\"total\":2,\"successful\":1,\"failed\":0},\"_seq_no\":12,\"_primary_term\":1}\n",
      "{\"_index\":\"bios\",\"_type\":\"_doc\",\"_id\":\"68\",\"_version\":1,\"result\":\"created\",\"_shards\":{\"total\":2,\"successful\":1,\"failed\":0},\"_seq_no\":13,\"_primary_term\":1}\n",
      "{\"_index\":\"bios\",\"_type\":\"_doc\",\"_id\":\"87\",\"_version\":1,\"result\":\"created\",\"_shards\":{\"total\":2,\"successful\":1,\"failed\":0},\"_seq_no\":14,\"_primary_term\":1}\n",
      "{\"_index\":\"bios\",\"_type\":\"_doc\",\"_id\":\"29\",\"_version\":1,\"result\":\"created\",\"_shards\":{\"total\":2,\"successful\":1,\"failed\":0},\"_seq_no\":15,\"_primary_term\":1}\n",
      "{\"_index\":\"bios\",\"_type\":\"_doc\",\"_id\":\"91\",\"_version\":1,\"result\":\"created\",\"_shards\":{\"total\":2,\"successful\":1,\"failed\":0},\"_seq_no\":16,\"_primary_term\":1}\n",
      "{\"_index\":\"bios\",\"_type\":\"_doc\",\"_id\":\"52\",\"_version\":1,\"result\":\"created\",\"_shards\":{\"total\":2,\"successful\":1,\"failed\":0},\"_seq_no\":17,\"_primary_term\":1}\n",
      "{\"_index\":\"bios\",\"_type\":\"_doc\",\"_id\":\"44\",\"_version\":1,\"result\":\"created\",\"_shards\":{\"total\":2,\"successful\":1,\"failed\":0},\"_seq_no\":18,\"_primary_term\":1}\n",
      "{\"_index\":\"bios\",\"_type\":\"_doc\",\"_id\":\"13\",\"_version\":1,\"result\":\"created\",\"_shards\":{\"total\":2,\"successful\":1,\"failed\":0},\"_seq_no\":19,\"_primary_term\":1}\n",
      "{\"_index\":\"bios\",\"_type\":\"_doc\",\"_id\":\"64\",\"_version\":1,\"result\":\"created\",\"_shards\":{\"total\":2,\"successful\":1,\"failed\":0},\"_seq_no\":20,\"_primary_term\":1}\n",
      "{\"_index\":\"bios\",\"_type\":\"_doc\",\"_id\":\"33\",\"_version\":1,\"result\":\"created\",\"_shards\":{\"total\":2,\"successful\":1,\"failed\":0},\"_seq_no\":21,\"_primary_term\":1}\n",
      "{\"_index\":\"bios\",\"_type\":\"_doc\",\"_id\":\"25\",\"_version\":1,\"result\":\"created\",\"_shards\":{\"total\":2,\"successful\":1,\"failed\":0},\"_seq_no\":22,\"_primary_term\":1}\n",
      "{\"_index\":\"bios\",\"_type\":\"_doc\",\"_id\":\"72\",\"_version\":1,\"result\":\"created\",\"_shards\":{\"total\":2,\"successful\":1,\"failed\":0},\"_seq_no\":23,\"_primary_term\":1}\n",
      "{\"_index\":\"bios\",\"_type\":\"_doc\",\"_id\":\"7\",\"_version\":1,\"result\":\"created\",\"_shards\":{\"total\":2,\"successful\":1,\"failed\":0},\"_seq_no\":24,\"_primary_term\":1}\n",
      "{\"_index\":\"bios\",\"_type\":\"_doc\",\"_id\":\"48\",\"_version\":1,\"result\":\"created\",\"_shards\":{\"total\":2,\"successful\":1,\"failed\":0},\"_seq_no\":25,\"_primary_term\":1}\n",
      "{\"_index\":\"bios\",\"_type\":\"_doc\",\"_id\":\"14\",\"_version\":1,\"result\":\"created\",\"_shards\":{\"total\":2,\"successful\":1,\"failed\":0},\"_seq_no\":26,\"_primary_term\":1}\n",
      "{\"_index\":\"bios\",\"_type\":\"_doc\",\"_id\":\"43\",\"_version\":1,\"result\":\"created\",\"_shards\":{\"total\":2,\"successful\":1,\"failed\":0},\"_seq_no\":27,\"_primary_term\":1}\n",
      "{\"_index\":\"bios\",\"_type\":\"_doc\",\"_id\":\"55\",\"_version\":1,\"result\":\"created\",\"_shards\":{\"total\":2,\"successful\":1,\"failed\":0},\"_seq_no\":28,\"_primary_term\":1}\n",
      "{\"_index\":\"bios\",\"_type\":\"_doc\",\"_id\":\"79\",\"_version\":1,\"result\":\"created\",\"_shards\":{\"total\":2,\"successful\":1,\"failed\":0},\"_seq_no\":29,\"_primary_term\":1}\n",
      "{\"_index\":\"bios\",\"_type\":\"_doc\",\"_id\":\"96\",\"_version\":1,\"result\":\"created\",\"_shards\":{\"total\":2,\"successful\":1,\"failed\":0},\"_seq_no\":30,\"_primary_term\":1}\n",
      "{\"_index\":\"bios\",\"_type\":\"_doc\",\"_id\":\"38\",\"_version\":1,\"result\":\"created\",\"_shards\":{\"total\":2,\"successful\":1,\"failed\":0},\"_seq_no\":31,\"_primary_term\":1}\n",
      "{\"_index\":\"bios\",\"_type\":\"_doc\",\"_id\":\"80\",\"_version\":1,\"result\":\"created\",\"_shards\":{\"total\":2,\"successful\":1,\"failed\":0},\"_seq_no\":32,\"_primary_term\":1}\n",
      "{\"_index\":\"bios\",\"_type\":\"_doc\",\"_id\":\"18\",\"_version\":1,\"result\":\"created\",\"_shards\":{\"total\":2,\"successful\":1,\"failed\":0},\"_seq_no\":33,\"_primary_term\":1}\n",
      "{\"_index\":\"bios\",\"_type\":\"_doc\",\"_id\":\"59\",\"_version\":1,\"result\":\"created\",\"_shards\":{\"total\":2,\"successful\":1,\"failed\":0},\"_seq_no\":34,\"_primary_term\":1}\n",
      "{\"_index\":\"bios\",\"_type\":\"_doc\",\"_id\":\"75\",\"_version\":1,\"result\":\"created\",\"_shards\":{\"total\":2,\"successful\":1,\"failed\":0},\"_seq_no\":35,\"_primary_term\":1}\n",
      "{\"_index\":\"bios\",\"_type\":\"_doc\",\"_id\":\"22\",\"_version\":1,\"result\":\"created\",\"_shards\":{\"total\":2,\"successful\":1,\"failed\":0},\"_seq_no\":36,\"_primary_term\":1}\n",
      "{\"_index\":\"bios\",\"_type\":\"_doc\",\"_id\":\"34\",\"_version\":1,\"result\":\"created\",\"_shards\":{\"total\":2,\"successful\":1,\"failed\":0},\"_seq_no\":37,\"_primary_term\":1}\n",
      "{\"_index\":\"bios\",\"_type\":\"_doc\",\"_id\":\"63\",\"_version\":1,\"result\":\"created\",\"_shards\":{\"total\":2,\"successful\":1,\"failed\":0},\"_seq_no\":38,\"_primary_term\":1}\n",
      "{\"_index\":\"bios\",\"_type\":\"_doc\",\"_id\":\"62\",\"_version\":1,\"result\":\"created\",\"_shards\":{\"total\":2,\"successful\":1,\"failed\":0},\"_seq_no\":39,\"_primary_term\":1}\n",
      "{\"_index\":\"bios\",\"_type\":\"_doc\",\"_id\":\"35\",\"_version\":1,\"result\":\"created\",\"_shards\":{\"total\":2,\"successful\":1,\"failed\":0},\"_seq_no\":40,\"_primary_term\":1}\n",
      "{\"_index\":\"bios\",\"_type\":\"_doc\",\"_id\":\"23\",\"_version\":1,\"result\":\"created\",\"_shards\":{\"total\":2,\"successful\":1,\"failed\":0},\"_seq_no\":41,\"_primary_term\":1}\n",
      "{\"_index\":\"bios\",\"_type\":\"_doc\",\"_id\":\"74\",\"_version\":1,\"result\":\"created\",\"_shards\":{\"total\":2,\"successful\":1,\"failed\":0},\"_seq_no\":42,\"_primary_term\":1}\n",
      "{\"_index\":\"bios\",\"_type\":\"_doc\",\"_id\":\"1\",\"_version\":1,\"result\":\"created\",\"_shards\":{\"total\":2,\"successful\":1,\"failed\":0},\"_seq_no\":43,\"_primary_term\":1}\n",
      "{\"_index\":\"bios\",\"_type\":\"_doc\",\"_id\":\"58\",\"_version\":1,\"result\":\"created\",\"_shards\":{\"total\":2,\"successful\":1,\"failed\":0},\"_seq_no\":44,\"_primary_term\":1}\n",
      "{\"_index\":\"bios\",\"_type\":\"_doc\",\"_id\":\"19\",\"_version\":1,\"result\":\"created\",\"_shards\":{\"total\":2,\"successful\":1,\"failed\":0},\"_seq_no\":45,\"_primary_term\":1}\n",
      "{\"_index\":\"bios\",\"_type\":\"_doc\",\"_id\":\"81\",\"_version\":1,\"result\":\"created\",\"_shards\":{\"total\":2,\"successful\":1,\"failed\":0},\"_seq_no\":46,\"_primary_term\":1}\n",
      "{\"_index\":\"bios\",\"_type\":\"_doc\",\"_id\":\"39\",\"_version\":1,\"result\":\"created\",\"_shards\":{\"total\":2,\"successful\":1,\"failed\":0},\"_seq_no\":47,\"_primary_term\":1}\n",
      "{\"_index\":\"bios\",\"_type\":\"_doc\",\"_id\":\"78\",\"_version\":1,\"result\":\"created\",\"_shards\":{\"total\":2,\"successful\":1,\"failed\":0},\"_seq_no\":48,\"_primary_term\":1}\n",
      "{\"_index\":\"bios\",\"_type\":\"_doc\",\"_id\":\"97\",\"_version\":1,\"result\":\"created\",\"_shards\":{\"total\":2,\"successful\":1,\"failed\":0},\"_seq_no\":49,\"_primary_term\":1}\n",
      "{\"_index\":\"bios\",\"_type\":\"_doc\",\"_id\":\"54\",\"_version\":1,\"result\":\"created\",\"_shards\":{\"total\":2,\"successful\":1,\"failed\":0},\"_seq_no\":50,\"_primary_term\":1}\n",
      "{\"_index\":\"bios\",\"_type\":\"_doc\",\"_id\":\"42\",\"_version\":1,\"result\":\"created\",\"_shards\":{\"total\":2,\"successful\":1,\"failed\":0},\"_seq_no\":51,\"_primary_term\":1}\n",
      "{\"_index\":\"bios\",\"_type\":\"_doc\",\"_id\":\"15\",\"_version\":1,\"result\":\"created\",\"_shards\":{\"total\":2,\"successful\":1,\"failed\":0},\"_seq_no\":52,\"_primary_term\":1}\n",
      "{\"_index\":\"bios\",\"_type\":\"_doc\",\"_id\":\"82\",\"_version\":1,\"result\":\"created\",\"_shards\":{\"total\":2,\"successful\":1,\"failed\":0},\"_seq_no\":53,\"_primary_term\":1}\n",
      "{\"_index\":\"bios\",\"_type\":\"_doc\",\"_id\":\"94\",\"_version\":1,\"result\":\"created\",\"_shards\":{\"total\":2,\"successful\":1,\"failed\":0},\"_seq_no\":54,\"_primary_term\":1}\n",
      "{\"_index\":\"bios\",\"_type\":\"_doc\",\"_id\":\"57\",\"_version\":1,\"result\":\"created\",\"_shards\":{\"total\":2,\"successful\":1,\"failed\":0},\"_seq_no\":55,\"_primary_term\":1}\n",
      "{\"_index\":\"bios\",\"_type\":\"_doc\",\"_id\":\"41\",\"_version\":1,\"result\":\"created\",\"_shards\":{\"total\":2,\"successful\":1,\"failed\":0},\"_seq_no\":56,\"_primary_term\":1}\n",
      "{\"_index\":\"bios\",\"_type\":\"_doc\",\"_id\":\"16\",\"_version\":1,\"result\":\"created\",\"_shards\":{\"total\":2,\"successful\":1,\"failed\":0},\"_seq_no\":57,\"_primary_term\":1}\n",
      "{\"_index\":\"bios\",\"_type\":\"_doc\",\"_id\":\"61\",\"_version\":1,\"result\":\"created\",\"_shards\":{\"total\":2,\"successful\":1,\"failed\":0},\"_seq_no\":58,\"_primary_term\":1}\n",
      "{\"_index\":\"bios\",\"_type\":\"_doc\",\"_id\":\"36\",\"_version\":1,\"result\":\"created\",\"_shards\":{\"total\":2,\"successful\":1,\"failed\":0},\"_seq_no\":59,\"_primary_term\":1}\n",
      "{\"_index\":\"bios\",\"_type\":\"_doc\",\"_id\":\"20\",\"_version\":1,\"result\":\"created\",\"_shards\":{\"total\":2,\"successful\":1,\"failed\":0},\"_seq_no\":60,\"_primary_term\":1}\n",
      "{\"_index\":\"bios\",\"_type\":\"_doc\",\"_id\":\"98\",\"_version\":1,\"result\":\"created\",\"_shards\":{\"total\":2,\"successful\":1,\"failed\":0},\"_seq_no\":61,\"_primary_term\":1}\n",
      "{\"_index\":\"bios\",\"_type\":\"_doc\",\"_id\":\"77\",\"_version\":1,\"result\":\"created\",\"_shards\":{\"total\":2,\"successful\":1,\"failed\":0},\"_seq_no\":62,\"_primary_term\":1}\n",
      "{\"_index\":\"bios\",\"_type\":\"_doc\",\"_id\":\"2\",\"_version\":1,\"result\":\"created\",\"_shards\":{\"total\":2,\"successful\":1,\"failed\":0},\"_seq_no\":63,\"_primary_term\":1}\n",
      "{\"_index\":\"bios\",\"_type\":\"_doc\",\"_id\":\"3\",\"_version\":1,\"result\":\"created\",\"_shards\":{\"total\":2,\"successful\":1,\"failed\":0},\"_seq_no\":64,\"_primary_term\":1}\n",
      "{\"_index\":\"bios\",\"_type\":\"_doc\",\"_id\":\"99\",\"_version\":1,\"result\":\"created\",\"_shards\":{\"total\":2,\"successful\":1,\"failed\":0},\"_seq_no\":65,\"_primary_term\":1}\n",
      "{\"_index\":\"bios\",\"_type\":\"_doc\",\"_id\":\"76\",\"_version\":1,\"result\":\"created\",\"_shards\":{\"total\":2,\"successful\":1,\"failed\":0},\"_seq_no\":66,\"_primary_term\":1}\n",
      "{\"_index\":\"bios\",\"_type\":\"_doc\",\"_id\":\"21\",\"_version\":1,\"result\":\"created\",\"_shards\":{\"total\":2,\"successful\":1,\"failed\":0},\"_seq_no\":67,\"_primary_term\":1}\n",
      "{\"_index\":\"bios\",\"_type\":\"_doc\",\"_id\":\"37\",\"_version\":1,\"result\":\"created\",\"_shards\":{\"total\":2,\"successful\":1,\"failed\":0},\"_seq_no\":68,\"_primary_term\":1}\n",
      "{\"_index\":\"bios\",\"_type\":\"_doc\",\"_id\":\"60\",\"_version\":1,\"result\":\"created\",\"_shards\":{\"total\":2,\"successful\":1,\"failed\":0},\"_seq_no\":69,\"_primary_term\":1}\n",
      "{\"_index\":\"bios\",\"_type\":\"_doc\",\"_id\":\"17\",\"_version\":1,\"result\":\"created\",\"_shards\":{\"total\":2,\"successful\":1,\"failed\":0},\"_seq_no\":70,\"_primary_term\":1}\n",
      "{\"_index\":\"bios\",\"_type\":\"_doc\",\"_id\":\"40\",\"_version\":1,\"result\":\"created\",\"_shards\":{\"total\":2,\"successful\":1,\"failed\":0},\"_seq_no\":71,\"_primary_term\":1}\n",
      "{\"_index\":\"bios\",\"_type\":\"_doc\",\"_id\":\"56\",\"_version\":1,\"result\":\"created\",\"_shards\":{\"total\":2,\"successful\":1,\"failed\":0},\"_seq_no\":72,\"_primary_term\":1}\n",
      "{\"_index\":\"bios\",\"_type\":\"_doc\",\"_id\":\"95\",\"_version\":1,\"result\":\"created\",\"_shards\":{\"total\":2,\"successful\":1,\"failed\":0},\"_seq_no\":73,\"_primary_term\":1}\n",
      "{\"_index\":\"bios\",\"_type\":\"_doc\",\"_id\":\"83\",\"_version\":1,\"result\":\"created\",\"_shards\":{\"total\":2,\"successful\":1,\"failed\":0},\"_seq_no\":74,\"_primary_term\":1}\n",
      "{\"_index\":\"bios\",\"_type\":\"_doc\",\"_id\":\"88\",\"_version\":1,\"result\":\"created\",\"_shards\":{\"total\":2,\"successful\":1,\"failed\":0},\"_seq_no\":75,\"_primary_term\":1}\n",
      "{\"_index\":\"bios\",\"_type\":\"_doc\",\"_id\":\"67\",\"_version\":1,\"result\":\"created\",\"_shards\":{\"total\":2,\"successful\":1,\"failed\":0},\"_seq_no\":76,\"_primary_term\":1}\n",
      "{\"_index\":\"bios\",\"_type\":\"_doc\",\"_id\":\"30\",\"_version\":1,\"result\":\"created\",\"_shards\":{\"total\":2,\"successful\":1,\"failed\":0},\"_seq_no\":77,\"_primary_term\":1}\n",
      "{\"_index\":\"bios\",\"_type\":\"_doc\",\"_id\":\"26\",\"_version\":1,\"result\":\"created\",\"_shards\":{\"total\":2,\"successful\":1,\"failed\":0},\"_seq_no\":78,\"_primary_term\":1}\n",
      "{\"_index\":\"bios\",\"_type\":\"_doc\",\"_id\":\"100\",\"_version\":1,\"result\":\"created\",\"_shards\":{\"total\":2,\"successful\":1,\"failed\":0},\"_seq_no\":79,\"_primary_term\":1}\n",
      "{\"_index\":\"bios\",\"_type\":\"_doc\",\"_id\":\"71\",\"_version\":1,\"result\":\"created\",\"_shards\":{\"total\":2,\"successful\":1,\"failed\":0},\"_seq_no\":80,\"_primary_term\":1}\n",
      "{\"_index\":\"bios\",\"_type\":\"_doc\",\"_id\":\"4\",\"_version\":1,\"result\":\"created\",\"_shards\":{\"total\":2,\"successful\":1,\"failed\":0},\"_seq_no\":81,\"_primary_term\":1}\n",
      "{\"_index\":\"bios\",\"_type\":\"_doc\",\"_id\":\"84\",\"_version\":1,\"result\":\"created\",\"_shards\":{\"total\":2,\"successful\":1,\"failed\":0},\"_seq_no\":82,\"_primary_term\":1}\n",
      "{\"_index\":\"bios\",\"_type\":\"_doc\",\"_id\":\"92\",\"_version\":1,\"result\":\"created\",\"_shards\":{\"total\":2,\"successful\":1,\"failed\":0},\"_seq_no\":83,\"_primary_term\":1}\n",
      "{\"_index\":\"bios\",\"_type\":\"_doc\",\"_id\":\"8\",\"_version\":1,\"result\":\"created\",\"_shards\":{\"total\":2,\"successful\":1,\"failed\":0},\"_seq_no\":84,\"_primary_term\":1}\n",
      "{\"_index\":\"bios\",\"_type\":\"_doc\",\"_id\":\"51\",\"_version\":1,\"result\":\"created\",\"_shards\":{\"total\":2,\"successful\":1,\"failed\":0},\"_seq_no\":85,\"_primary_term\":1}\n",
      "{\"_index\":\"bios\",\"_type\":\"_doc\",\"_id\":\"47\",\"_version\":1,\"result\":\"created\",\"_shards\":{\"total\":2,\"successful\":1,\"failed\":0},\"_seq_no\":86,\"_primary_term\":1}\n",
      "{\"_index\":\"bios\",\"_type\":\"_doc\",\"_id\":\"10\",\"_version\":1,\"result\":\"created\",\"_shards\":{\"total\":2,\"successful\":1,\"failed\":0},\"_seq_no\":87,\"_primary_term\":1}\n",
      "{\"_index\":\"bios\",\"_type\":\"_doc\",\"_id\":\"11\",\"_version\":1,\"result\":\"created\",\"_shards\":{\"total\":2,\"successful\":1,\"failed\":0},\"_seq_no\":88,\"_primary_term\":1}\n",
      "{\"_index\":\"bios\",\"_type\":\"_doc\",\"_id\":\"46\",\"_version\":1,\"result\":\"created\",\"_shards\":{\"total\":2,\"successful\":1,\"failed\":0},\"_seq_no\":89,\"_primary_term\":1}\n",
      "{\"_index\":\"bios\",\"_type\":\"_doc\",\"_id\":\"50\",\"_version\":1,\"result\":\"created\",\"_shards\":{\"total\":2,\"successful\":1,\"failed\":0},\"_seq_no\":90,\"_primary_term\":1}\n",
      "{\"_index\":\"bios\",\"_type\":\"_doc\",\"_id\":\"9\",\"_version\":1,\"result\":\"created\",\"_shards\":{\"total\":2,\"successful\":1,\"failed\":0},\"_seq_no\":91,\"_primary_term\":1}\n",
      "{\"_index\":\"bios\",\"_type\":\"_doc\",\"_id\":\"93\",\"_version\":1,\"result\":\"created\",\"_shards\":{\"total\":2,\"successful\":1,\"failed\":0},\"_seq_no\":92,\"_primary_term\":1}\n",
      "{\"_index\":\"bios\",\"_type\":\"_doc\",\"_id\":\"85\",\"_version\":1,\"result\":\"created\",\"_shards\":{\"total\":2,\"successful\":1,\"failed\":0},\"_seq_no\":93,\"_primary_term\":1}\n",
      "{\"_index\":\"bios\",\"_type\":\"_doc\",\"_id\":\"5\",\"_version\":1,\"result\":\"created\",\"_shards\":{\"total\":2,\"successful\":1,\"failed\":0},\"_seq_no\":94,\"_primary_term\":1}\n",
      "{\"_index\":\"bios\",\"_type\":\"_doc\",\"_id\":\"70\",\"_version\":1,\"result\":\"created\",\"_shards\":{\"total\":2,\"successful\":1,\"failed\":0},\"_seq_no\":95,\"_primary_term\":1}\n",
      "{\"_index\":\"bios\",\"_type\":\"_doc\",\"_id\":\"27\",\"_version\":1,\"result\":\"created\",\"_shards\":{\"total\":2,\"successful\":1,\"failed\":0},\"_seq_no\":96,\"_primary_term\":1}\n",
      "{\"_index\":\"bios\",\"_type\":\"_doc\",\"_id\":\"31\",\"_version\":1,\"result\":\"created\",\"_shards\":{\"total\":2,\"successful\":1,\"failed\":0},\"_seq_no\":97,\"_primary_term\":1}\n",
      "{\"_index\":\"bios\",\"_type\":\"_doc\",\"_id\":\"89\",\"_version\":1,\"result\":\"created\",\"_shards\":{\"total\":2,\"successful\":1,\"failed\":0},\"_seq_no\":98,\"_primary_term\":1}\n",
      "{\"_index\":\"bios\",\"_type\":\"_doc\",\"_id\":\"66\",\"_version\":1,\"result\":\"created\",\"_shards\":{\"total\":2,\"successful\":1,\"failed\":0},\"_seq_no\":99,\"_primary_term\":1}\n"
     ]
    }
   ],
   "source": [
    "ids = list(bio_dict.keys())\n",
    "for i, v in zip(ids, xin):\n",
    "    _id = str(i)\n",
    "    #print(_id)\n",
    "    doc = {\n",
    "        #_actorID\tactor\tage\tbirthdate\tgender\theight\n",
    "        \"_actorID\" : i,\n",
    "        \"celebrity\" : celebrityLookup[_id],\n",
    "        \"bio_vector\": [float(x) for x in v], \n",
    "        }\n",
    "    r = requests.put(esIndex+'/_doc/'+_id, headers= headers, data = json.dumps(doc))\n",
    "    print (r.text)"
   ]
  },
  {
   "cell_type": "code",
   "execution_count": 17,
   "metadata": {},
   "outputs": [
    {
     "name": "stdout",
     "output_type": "stream",
     "text": [
      "('{\"_index\":\"bios\",\"_type\":\"_doc\",\"_id\":\"1\",\"_version\":1,\"_seq_no\":43,\"_primary_term\":1,\"found\":true,\"_source\":{\"_actorID\": '\n",
      " '\"1\", \"celebrity\": \"Robert Downey Jr.\", \"bio_vector\": [0.04837771877646446, '\n",
      " '0.022511877119541168, -0.10536447167396545, -0.1552850306034088, '\n",
      " '0.2935081422328949, 0.3959132432937622, -0.16279493272304535, '\n",
      " '0.32249748706817627, 0.23131726682186127, 0.07074576616287231, '\n",
      " '0.013724659569561481, -0.018507424741983414, -0.25354212522506714, '\n",
      " '-0.15150010585784912, -0.2948114573955536, 0.044774092733860016, '\n",
      " '0.2890183627605438, 0.08981198072433472, -0.10185448825359344, '\n",
      " '0.003111480502411723, 0.14141295850276947, 0.225153848528862, '\n",
      " '0.03843172639608383, -0.08233527094125748, 0.45199763774871826, '\n",
      " '-0.15272027254104614, 0.06622729450464249, 0.19484412670135498, '\n",
      " '0.29314160346984863, 0.565075695514679, 0.3793236017227173, '\n",
      " '-0.18968883156776428, 0.2955780327320099, -0.07489267736673355, '\n",
      " '-0.017330626025795937, 0.05929869785904884, -0.2600983679294586, '\n",
      " '0.041634365916252136, 0.3580667972564697, 0.2158486247062683, '\n",
      " '-0.16942717134952545, 0.26912131905555725, -0.01903519220650196, '\n",
      " '0.057748712599277496, 0.41782858967781067, 0.16218961775302887, '\n",
      " '0.25592923164367676, 0.21427497267723083, -0.252267062664032, '\n",
      " '-0.10214169323444366, 0.27457529306411743, -0.5132979154586792, '\n",
      " '-0.08417703956365585, -0.045679621398448944, 0.44146624207496643, '\n",
      " '0.17362268269062042, 0.2280951291322708, -0.054671093821525574, '\n",
      " '0.05686472728848457, 0.44140955805778503, 0.284663587808609, '\n",
      " '0.30605247616767883, 0.2721090018749237, 0.4111694395542145, '\n",
      " '0.5268051624298096, 0.23558419942855835, 0.22241121530532837, '\n",
      " '0.03522181510925293, -0.020046234130859375, -0.04093484953045845, '\n",
      " '0.2511192560195923, 0.07484157383441925, 0.24927961826324463, '\n",
      " '-0.6242632269859314, -0.11212226748466492, 0.33203205466270447, '\n",
      " '0.17241725325584412, 0.28444817662239075, -0.1269231140613556, '\n",
      " '0.2074395716190338, -0.37141677737236023, -0.09838840365409851, '\n",
      " '-0.2694164216518402, -0.23845252394676208, -0.027045130729675293, '\n",
      " '0.21066290140151978, -0.1250460296869278, -0.5400531888008118, '\n",
      " '0.3090554475784302, 0.06799889355897903, -0.14950937032699585, '\n",
      " '-0.4499833285808563, 0.3613124191761017, -0.19432012736797333, '\n",
      " '-0.15948818624019623, -0.05169444903731346, 0.4026394188404083, '\n",
      " '-0.11330049484968185, -0.5402434468269348, 0.11270410567522049, '\n",
      " '-0.024383192881941795, 0.24489295482635498, 0.0761185884475708, '\n",
      " '-0.07046428322792053, 0.3384748697280884, -0.19973346590995789, '\n",
      " '-0.5424157977104187, -0.027434807270765305, -0.1125449389219284, '\n",
      " '-0.2560499608516693, -0.1426231414079666, 0.23914550244808197, '\n",
      " '0.4527111351490021, -0.1756235957145691, 0.10937897861003876, '\n",
      " '-0.21508632600307465, 0.16561292111873627, -0.009321481920778751, '\n",
      " '-0.08162055164575577, -0.12268144637346268, 0.3938642144203186, '\n",
      " '0.02720438502728939, 0.17787620425224304, 5.771659198217094e-05, '\n",
      " '-0.14444833993911743, -0.25816431641578674, -0.17343920469284058, '\n",
      " '-0.4218655526638031, 0.18594801425933838, -0.10926233232021332, '\n",
      " '0.5129180550575256, -0.1076871007680893, -0.5980213284492493, '\n",
      " '0.20873592793941498, -0.3385980725288391, 0.023665601387619972, '\n",
      " '-0.14964714646339417, 0.2600398659706116, 0.15648438036441803, '\n",
      " '-0.1322586089372635, -0.022184215486049652, -0.05068599805235863, '\n",
      " '0.4285493791103363, 0.05810397118330002, 0.3669896721839905, '\n",
      " '-0.2040129154920578, 0.4112683832645416, -0.014630028046667576, '\n",
      " '0.0899500921368599, 0.11920240521430969, -0.37421295046806335, '\n",
      " '0.14155131578445435, 0.18489238619804382, -0.07395751774311066, '\n",
      " '-0.09800727665424347, 0.09255961328744888, 0.12865684926509857, '\n",
      " '0.06461766362190247, -0.05456755310297012, 0.2804458439350128, '\n",
      " '-0.15699326992034912, -0.07901886105537415, -0.13090288639068604, '\n",
      " '-0.39836403727531433, 0.20654615759849548, 0.19982364773750305, '\n",
      " '-0.015566195361316204, -0.2266811579465866, -0.0637078732252121, '\n",
      " '-0.29683926701545715, -0.2882266044616699, 0.19250909984111786, '\n",
      " '0.1501065343618393, -0.21606554090976715, 0.04637081176042557, '\n",
      " '0.17198948562145233, -0.3644115924835205, 0.5421547293663025, '\n",
      " '0.09227243065834045, -0.2807714343070984, 0.1473642885684967, '\n",
      " '-0.7552095055580139, -0.23898307979106903, -0.46524590253829956, '\n",
      " '0.08309680223464966, 0.41222599148750305, 0.21177957952022552, '\n",
      " '0.3281233310699463, 0.3967072367668152, -0.0074875252321362495, '\n",
      " '-0.11238790303468704, -0.5333466529846191, 0.12773257493972778, '\n",
      " '0.022062432020902634, 0.07634171843528748, -0.33482852578163147, '\n",
      " '0.023020513355731964, -0.06074868142604828, -0.3673761487007141, '\n",
      " '0.037793006747961044, -0.12107863277196884, 0.0027446330059319735, '\n",
      " '0.09256069362163544, -0.23642343282699585, -0.16598543524742126, '\n",
      " '0.08895441144704819, -0.1381181925535202, 0.2696853578090668, '\n",
      " '-0.003722761059179902, 0.03414655104279518, 1.6288042068481445, '\n",
      " '-0.025859031826257706, -0.049822963774204254, 0.1898919939994812, '\n",
      " '-0.029104597866535187, 0.13833343982696533, -0.16289909183979034, '\n",
      " '0.4445140063762665, -0.28076955676078796, -0.10903924703598022, '\n",
      " '-0.3912462890148163, -0.07561681419610977, 0.014214610680937767, '\n",
      " '-0.0742640569806099, -0.3124622404575348, 0.36592331528663635, '\n",
      " '0.4172428250312805, 0.1205507293343544, 0.12182794511318207, '\n",
      " '-0.07794620096683502, -0.10932312160730362, 0.12978242337703705, '\n",
      " '-0.17503567039966583, -0.031438615173101425, 0.04385577514767647, '\n",
      " '-0.1957879215478897, 0.33914080262184143, -0.10327645391225815, '\n",
      " '0.004519003909081221, 0.5494470000267029, -0.281773179769516, '\n",
      " '-0.060147058218717575, 0.12130198627710342, 0.17993462085723877, '\n",
      " '-0.15963256359100342, -0.07050491124391556, 0.14128492772579193, '\n",
      " '0.01984206959605217, -0.15906138718128204, 0.0668627992272377, '\n",
      " '0.012315584346652031, 0.03866560757160187, -0.47660791873931885, '\n",
      " '-0.21591493487358093, -0.17765703797340393, 0.28387415409088135, '\n",
      " '-0.01566304638981819, 0.06633815169334412, 0.2794836163520813, '\n",
      " '0.08692999184131622, 0.3350388705730438, 0.0007853939896449447, '\n",
      " '-0.3415225148200989, -0.22223539650440216, -1.2754429578781128, '\n",
      " '0.13302436470985413, 0.04966113716363907, -0.004401700105518103, '\n",
      " '0.1626613736152649, 0.10972882062196732, 0.33355236053466797, '\n",
      " '0.05519545450806618, -0.2063290923833847, -0.18519653379917145, '\n",
      " '0.38548269867897034, 0.35460585355758667, -0.027811553329229355, '\n",
      " '-0.05969168618321419, -0.18242254853248596, -0.11896811425685883, '\n",
      " '0.026548495516180992, 0.051178980618715286, 0.11003923416137695, '\n",
      " '0.04462730512022972, -0.13689880073070526, 0.2065412700176239, '\n",
      " '0.18933434784412384, -0.3962375521659851, -0.17773199081420898, '\n",
      " '-0.06075622886419296, -0.1198296993970871, 0.10787878930568695, '\n",
      " '0.2704801857471466, 0.09528514742851257, -0.27729374170303345, '\n",
      " '-0.038135141134262085, 0.27022895216941833, -0.04669533297419548, '\n",
      " '-0.041980016976594925, -0.3238726556301117, -0.11552269756793976, '\n",
      " '-0.5341308116912842, 0.0708373561501503, 0.4987800121307373, '\n",
      " '-0.09803538024425507, -0.30665093660354614, -0.13812214136123657, '\n",
      " '-0.09782742708921432, 0.03568602725863457, 0.34137237071990967, '\n",
      " '-0.1419963240623474, -0.05765465646982193, -0.3065946400165558, '\n",
      " '0.009072307497262955, 0.38155749440193176, -0.01523072924464941, '\n",
      " '-0.13895414769649506, 0.011611837893724442, -0.0804254561662674, '\n",
      " '-0.10302700847387314, -0.14723919332027435, 0.13172930479049683, '\n",
      " '-0.35481318831443787, -0.12643937766551971, 0.22652967274188995, '\n",
      " '0.07003083825111389, 0.0041168322786688805, 0.3853791058063507, '\n",
      " '0.25281965732574463, -0.038402654230594635, -0.16271422803401947, '\n",
      " '-0.38904258608818054, 0.21396787464618683, -0.15746214985847473, '\n",
      " '-0.55765700340271, -0.23684853315353394, 0.10134680569171906, '\n",
      " '0.2673994302749634, 0.07971297949552536, -0.18705080449581146, '\n",
      " '-0.0659082680940628, 0.21790540218353271, -0.06493248045444489, '\n",
      " '0.01807018555700779, 0.32150354981422424, -0.46191683411598206, '\n",
      " '-0.31639596819877625, -0.35748088359832764, 0.03083638660609722, '\n",
      " '-0.006290534511208534, -0.0690777376294136, 0.01945107989013195, '\n",
      " '0.21687893569469452, 0.060125745832920074, -0.41757261753082275, '\n",
      " '0.22731775045394897, 0.1071208119392395, -0.05957436189055443, '\n",
      " '0.03343690559267998, 0.18537898361682892, -0.021741246804594994, '\n",
      " '-0.29503244161605835, -0.036916375160217285, -0.17273634672164917, '\n",
      " '0.07353924959897995, 0.02722419984638691, -0.4363372027873993, '\n",
      " '-0.0330006442964077, -0.022416600957512856, -0.1789824366569519, '\n",
      " '-0.07179876416921616, 0.030040448531508446, 0.12061807513237, '\n",
      " '0.18546079099178314, -0.09366267919540405, -0.22309669852256775, '\n",
      " '0.5098198652267456, 0.4780849814414978, 0.25445833802223206, '\n",
      " '-0.15016502141952515, -0.16391058266162872, 0.34867408871650696, '\n",
      " '-0.2089623063802719, 0.06073117256164551, 0.11465877294540405, '\n",
      " '-0.2670041024684906, -0.08840160071849823, -0.13079069554805756, '\n",
      " '-0.5142368078231812, -0.13190962374210358, 0.17970770597457886, '\n",
      " '-0.3445715010166168, 0.004151536151766777, 0.12724994122982025, '\n",
      " '-0.04882428050041199, 0.2978422939777374, -0.07051374763250351, '\n",
      " '0.2908576428890228, 0.07025206834077835, 0.09147627651691437, '\n",
      " '0.03582341969013214, 0.1873912811279297, 0.27713707089424133, '\n",
      " '0.31759196519851685, 0.1505478024482727, 0.30635538697242737, '\n",
      " '-0.07994982600212097, 0.2151823192834854, -0.06284753978252411, '\n",
      " '-0.43959444761276245, 0.12781600654125214, 0.051825955510139465, '\n",
      " '-0.12334805727005005, -0.027322597801685333, -0.21082545816898346, '\n",
      " '-0.2918946146965027, -0.06053460016846657, 0.13008688390254974, '\n",
      " '-0.10125698149204254, 0.24370767176151276, 0.025196226313710213, '\n",
      " '-0.22165191173553467, 0.11372999846935272, 0.22468282282352448, '\n",
      " '0.13846434652805328, 0.09656814485788345, 0.04745662584900856, '\n",
      " '-0.258696585893631, 0.0549284964799881, 0.0653855949640274, '\n",
      " '0.0683806911110878, 0.02719917520880699, -0.12049178779125214, '\n",
      " '-0.08653303980827332, 0.022662756964564323, -0.1419333666563034, '\n",
      " '0.014456304721534252, 0.20514176785945892, -0.004353280179202557, '\n",
      " '-0.39084431529045105, -0.34514302015304565, 0.19672419130802155, '\n",
      " '0.5209874510765076, -0.29430609941482544, 0.26462841033935547, '\n",
      " '-0.04753189533948898, 0.28776970505714417, 0.5404057502746582, '\n",
      " '-0.2459757924079895, -0.11559727042913437, -0.18024349212646484, '\n",
      " '0.3141266703605652, 0.8087877631187439, 0.013340950012207031, '\n",
      " '0.08745592087507248, 0.14132022857666016, 0.06721058487892151, '\n",
      " '-0.021943865343928337, -0.33924975991249084, 0.30728578567504883, '\n",
      " '-0.16103580594062805, -0.027792183682322502, 0.10586950927972794, '\n",
      " '-0.24849539995193481, -0.2489359825849533, 0.07803505659103394, '\n",
      " '-0.15264253318309784, 0.3344372510910034, -0.6037275195121765, '\n",
      " '-0.11565102636814117, -0.22230440378189087, -0.13253255188465118, '\n",
      " '0.24590614438056946, -0.11766492575407028, -0.03752529248595238, '\n",
      " '-0.1427306830883026, 0.038187313824892044, -0.3797856271266937, '\n",
      " '0.4731077253818512, -0.08284655213356018, -0.13557904958724976, '\n",
      " '-0.33447426557540894, -0.0026664906181395054, -0.3175004720687866, '\n",
      " '0.02667861245572567, -0.28385913372039795, -0.09284652024507523, '\n",
      " '0.028572862967848778, -0.47186487913131714, 0.09193205833435059, '\n",
      " '0.17582164704799652, -0.18489006161689758, 0.26838093996047974, '\n",
      " '-0.03800952807068825, 0.0722399428486824, -0.01343937311321497, '\n",
      " '-0.09956233203411102, -0.2740502953529358, -0.18127566576004028, '\n",
      " '-0.2294105738401413, -0.13624031841754913, 0.04090450704097748, '\n",
      " '-0.12771983444690704, 0.5064367651939392, 0.10204478353261948, '\n",
      " '0.09911981225013733, 0.08575756847858429, 0.013553043827414513, '\n",
      " '0.10883037745952606, -0.0628589391708374, 0.49697503447532654, '\n",
      " '-0.16660603880882263, -0.0360385961830616, 0.1442428082227707, '\n",
      " '-0.02098635956645012, -0.07947741448879242, 0.2710799276828766, '\n",
      " '-0.09763538092374802, -0.05718604102730751, -0.08765187114477158, '\n",
      " '0.2756713032722473, 0.001966886455193162, 0.12165337800979614, '\n",
      " '-0.29179438948631287, 0.2925223410129547, -0.04673987999558449, '\n",
      " '-0.4921121299266815, 0.3987460434436798, -0.04866814613342285, '\n",
      " '-0.1258050948381424, 0.07181970775127411, -0.1631191074848175, '\n",
      " '0.04435563087463379, 0.1288568079471588, 0.0407397523522377, '\n",
      " '-0.38618695735931396, 0.4288327097892761, -0.3368970453739166, '\n",
      " '-0.14742322266101837, 0.2384774088859558, 0.35991591215133667, '\n",
      " '0.10163868963718414, -0.016621345654129982, -0.27939608693122864, '\n",
      " '0.31906643509864807, 0.045868176966905594, 0.25805243849754333, '\n",
      " '0.14306145906448364, -0.28992608189582825, 0.1043512150645256, '\n",
      " '0.19837145507335663, -0.07319463044404984, -0.030716096982359886, '\n",
      " '-0.04990043491125107, -0.12597167491912842, 0.1888219118118286, '\n",
      " '0.2848389148712158, 0.05731286108493805, 0.004853639751672745, '\n",
      " '0.07014140486717224, -0.3860183656215668, 0.11754992604255676, '\n",
      " '-0.007607902400195599, -0.4178753197193146, 0.11177394539117813, '\n",
      " '-0.06736162304878235, 0.4266275465488434, 0.14827167987823486, '\n",
      " '0.05002687871456146, 0.008685794658958912, -0.14045409858226776, '\n",
      " '0.3502616584300995, 0.11365754902362823, 0.11080551147460938, '\n",
      " '0.34779155254364014, 0.08991505950689316, 0.6288987994194031, '\n",
      " '0.14484885334968567, 0.3136219382286072, -0.0069037373177707195, '\n",
      " '0.10889513790607452, -0.12047723680734634, 0.29676076769828796, '\n",
      " '-0.04656391218304634, 0.24732530117034912, -0.24014413356781006, '\n",
      " '-0.3296888470649719, 0.07964283972978592, 0.2550622522830963, '\n",
      " '0.27197983860969543, 0.016758423298597336, 0.07417571544647217, '\n",
      " '-0.17863993346691132, 0.11724989861249924, -0.05607521906495094, '\n",
      " '-0.2848230004310608, -0.015988806262612343, 0.07467413693666458, '\n",
      " '-0.05212034657597542, -0.22198829054832458, 0.28445950150489807, '\n",
      " '-0.14828860759735107, -0.1565365195274353, -0.21556119620800018, '\n",
      " '0.025910941883921623, -0.26779887080192566, -0.2329159677028656, '\n",
      " '0.0015037143602967262, 0.08537134528160095, -0.12398189306259155, '\n",
      " '-0.3239416778087616, -0.0031237720977514982, -0.28075262904167175, '\n",
      " '0.3340662717819214, 0.06476229429244995, -0.13556146621704102, '\n",
      " '0.07060559093952179, -0.2267342358827591, -0.2618914544582367, '\n",
      " '0.20844215154647827, -0.11140649765729904, -0.1725941300392151, '\n",
      " '-0.002003682777285576, 0.2080434411764145, 0.45079219341278076, '\n",
      " '0.102476567029953, -0.20670795440673828, -0.2790008783340454, '\n",
      " '0.2479514479637146, -0.09654345363378525, 0.14177832007408142, '\n",
      " '0.25406989455223083, 0.12545062601566315, -0.2872883081436157, '\n",
      " '0.0917336642742157, 0.19533312320709229, -0.1810268610715866, '\n",
      " '-0.29357320070266724, -0.39280545711517334, -0.20205724239349365, '\n",
      " '0.012088465504348278, -0.2736780643463135, 0.38414573669433594, '\n",
      " '-0.11571212857961655, -0.3388780653476715, 0.2264181524515152, '\n",
      " '-0.027830440551042557, -0.3075324296951294, 0.015672555193305016, '\n",
      " '-0.15578173100948334, 0.0192858949303627, 0.31971123814582825, '\n",
      " '-0.08449612557888031, -0.19443656504154205, 0.016472579911351204, '\n",
      " '0.20069454610347748, 0.2965403199195862, -0.02084115520119667, '\n",
      " '-0.05480872094631195, -0.0713508129119873, 0.3667060136795044, '\n",
      " '0.25361549854278564, -0.22228914499282837, 0.14794546365737915, '\n",
      " '0.010989047586917877, 0.1361108273267746, 0.08246364444494247, '\n",
      " '-0.0688147246837616, -0.055610913783311844, 0.08133285492658615, '\n",
      " '-0.04115505516529083, -0.0076360078528523445, 0.17781278491020203, '\n",
      " '-0.22165317833423615, -0.007032705470919609, -0.19347864389419556, '\n",
      " '0.13026481866836548, 0.4948107898235321, 0.17019987106323242, '\n",
      " '-0.02144942246377468, -0.2570856213569641, 0.00470157852396369, '\n",
      " '0.046259813010692596, 0.17277860641479492, -0.3269641101360321, '\n",
      " '-0.2553764581680298, -0.25081297755241394, 0.18924476206302643, '\n",
      " '-0.25453484058380127, 0.29631707072257996, -0.0245260838419199, '\n",
      " '-0.08208632469177246, -0.3145264685153961, -0.525290310382843, '\n",
      " '0.1316765695810318, -0.23955781757831573, -0.050253938883543015, '\n",
      " '0.05440541356801987, -0.009286846965551376, 0.24081742763519287, '\n",
      " '0.2100096344947815, 0.3056683838367462, 0.022357577458024025, '\n",
      " '-0.20536625385284424, 0.027766525745391846, 0.1581561267375946, '\n",
      " '-0.2624441385269165, -0.35352906584739685, -0.24444545805454254, '\n",
      " '-0.24975508451461792, -0.24193525314331055, 0.022975340485572815, '\n",
      " '-0.12569497525691986, 0.046281587332487106, 0.2255629003047943, '\n",
      " '-0.11632504314184189, -0.030988717451691628, 0.15568530559539795, '\n",
      " '-0.1471366137266159, 0.40872788429260254, -0.16624289751052856, '\n",
      " '-0.22794459760189056, 0.9490187168121338, 0.038054727017879486, '\n",
      " '0.15960292518138885, -0.18442481756210327, 0.08715210109949112, '\n",
      " '0.27729132771492004, -0.08933314681053162, 0.3314268887042999, '\n",
      " '-0.08594958484172821, 0.011036918498575687, -0.2741318345069885, '\n",
      " '0.07303318381309509, -0.369562029838562, 0.04474401846528053, '\n",
      " '-0.13298751413822174, -0.04793073982000351, 0.1201590746641159, '\n",
      " '0.5705817341804504, 0.07608173787593842, -0.055191587656736374, '\n",
      " '0.0010085427202284336, 0.2831149995326996, -0.010418824851512909, '\n",
      " '-0.16964423656463623, -0.089533731341362, 0.06341679394245148, '\n",
      " '0.534627377986908, 0.22755835950374603, -0.10840859264135361, '\n",
      " '0.44031909108161926, -0.287179559469223, 0.14957930147647858, '\n",
      " '-0.03763161227107048, 0.017349544912576675, 0.2506089210510254, '\n",
      " '-0.10326988250017166, 0.03902245685458183, -0.18331651389598846, '\n",
      " '0.0953524112701416, -0.037785619497299194, 0.11381120979785919, '\n",
      " '-0.08442799746990204, -0.19504524767398834, -0.29272258281707764, '\n",
      " '-0.1570841372013092, 0.10550008714199066, 0.079867884516716, '\n",
      " '0.2175082564353943, 0.19321222603321075, 0.13922211527824402, '\n",
      " '0.013640129938721657, -0.5353257060050964, -0.12301399558782578, '\n",
      " '-0.0715191438794136, -0.8608579039573669, -0.19160987436771393, '\n",
      " '0.07029485702514648, 0.1527002602815628, 0.18422026932239532, '\n",
      " '0.13324956595897675, -0.015646828338503838, 0.09506760537624359, '\n",
      " '-0.09736225754022598, -0.004178348928689957, 0.30338582396507263, '\n",
      " '0.08416861295700073, -0.10008920729160309, 0.05981610342860222, '\n",
      " '0.09254880994558334, 0.12611015141010284, -0.12909504771232605, '\n",
      " '-0.11863620579242706, 0.13555575907230377, -0.053571201860904694, '\n",
      " '0.16870836913585663, 0.11171596497297287, -0.07837537676095963, '\n",
      " '-0.33690327405929565, -0.08208628743886948, -0.3265969157218933, '\n",
      " '-0.06499633193016052, -0.19069699943065643, 0.10091974586248398, '\n",
      " '-0.12930892407894135, -0.3462640345096588, 0.1750943511724472, '\n",
      " '-0.09986601769924164, 0.08819754421710968, -0.11488144844770432, '\n",
      " '-0.26283082365989685, -0.0550902895629406, 0.005512450821697712, '\n",
      " '-0.8751605153083801, 0.6570377945899963, -0.02864176593720913, '\n",
      " '-0.3034055829048157, 0.08603549748659134, 0.20302794873714447, '\n",
      " '0.21128851175308228, 0.1554708331823349, 0.38339805603027344, '\n",
      " '-0.2239920198917389, -0.2987820506095886, 0.07135339081287384, '\n",
      " '0.331407368183136, -0.18170323967933655, -0.1278640627861023, '\n",
      " '-0.16006645560264587, 0.028365693986415863, -0.21160583198070526, '\n",
      " '-0.3198477625846863, 0.040603362023830414, 0.05389593541622162, '\n",
      " '0.05747729912400246, 0.41555535793304443, 0.34751418232917786, '\n",
      " '-0.16724036633968353, -1.929642677307129, 0.046732015907764435, '\n",
      " '-0.09675496071577072, -0.2977035343647003, 0.0022894239518791437, '\n",
      " '0.06483003497123718, -0.05906401947140694, -0.32067587971687317, '\n",
      " '-0.3954312801361084, 0.19784186780452728, 0.23384876549243927, '\n",
      " '-0.2301284223794937, -0.3555651605129242, -0.07745864242315292, '\n",
      " '0.17877952754497528, 0.057147130370140076, 0.5068293213844299, '\n",
      " '0.36587411165237427, -0.11403489112854004, -0.243306502699852, '\n",
      " '-0.1742192506790161, 0.1653716117143631, 0.0832991823554039, '\n",
      " '-0.04478304460644722, 0.016480278223752975, 0.12498922646045685, '\n",
      " '-0.15603050589561462, -0.14873842895030975, 0.06973936408758163, '\n",
      " '0.3013848066329956, -0.2409595549106598, -0.1810295283794403, '\n",
      " '-0.2105487883090973, 0.042045462876558304, -0.19327203929424286, '\n",
      " '0.07938946038484573, -0.3218553960323334, 0.19127148389816284, '\n",
      " '0.08244054764509201, -0.029674256220459938, -0.05511286109685898, '\n",
      " '0.09365235269069672, -0.34181877970695496, 0.17917324602603912, '\n",
      " '0.2918798327445984, 0.35974010825157166, 0.057781804352998734, '\n",
      " '-0.34952840209007263, -0.100799061357975, 0.20819494128227234, '\n",
      " '0.19503530859947205, 0.2685776650905609, -0.08241833001375198, '\n",
      " '0.07187070697546005, 0.1907489150762558, -0.08687607944011688, '\n",
      " '0.26647499203681946, -0.13333913683891296, 0.037167202681303024, '\n",
      " '0.25031527876853943, -0.11520490050315857, -0.1846129447221756, '\n",
      " '-0.48190635442733765, -0.03219285607337952, -0.34558001160621643, '\n",
      " '-0.03283153846859932, -0.2745632827281952, -0.13281594216823578, '\n",
      " '0.052588630467653275, 0.0510866753757, 0.24999181926250458, '\n",
      " '-0.008092006668448448, -0.11586633324623108, -0.08970707654953003, '\n",
      " '0.12099426239728928, 0.05918712913990021, 0.186490997672081, '\n",
      " '-0.22560934722423553, 0.2256796807050705, -0.165899395942688, '\n",
      " '0.06844838708639145, 0.13514344394207, -0.38680797815322876, '\n",
      " '0.019154682755470276, 0.0873725488781929, -0.24619893729686737, '\n",
      " '-0.014742250554263592, -0.05803294479846954, -0.17280930280685425, '\n",
      " '-0.024711139500141144, 0.2047881931066513, -0.07225999981164932, '\n",
      " '0.2006107121706009, 0.1337602734565735, -0.19104182720184326, '\n",
      " '0.1368493139743805, 0.0398440845310688, 0.158773273229599, '\n",
      " '-0.056301895529031754, -0.062240686267614365, -0.11933013051748276, '\n",
      " '-0.16252873837947845, 0.019704697653651237, -0.1397724598646164, '\n",
      " '-0.3388277292251587, 0.12514151632785797, 0.06520604342222214, '\n",
      " '0.21538245677947998, 0.2257266491651535, -0.07421720772981644, '\n",
      " '0.21115155518054962, -0.13266927003860474, -0.3063807785511017, '\n",
      " '-0.2328891009092331, 0.147405207157135, 0.13468703627586365, '\n",
      " '0.1267891526222229, 0.3080176115036011, 0.08677259087562561, '\n",
      " '0.1798214465379715, 0.3366278111934662, -0.2362828403711319, '\n",
      " '0.023625411093235016, -0.14425750076770782, 0.14526154100894928, '\n",
      " '0.7300080060958862, 0.0057004885748028755, 0.19074036180973053, '\n",
      " '-0.0017747641541063786, -0.040464725345373154, -0.0800395980477333, '\n",
      " '-0.19910705089569092, 0.3006591796875, 0.030413798987865448, '\n",
      " '0.02985524944961071, -0.09721523523330688, 0.0345202274620533, '\n",
      " '-0.13190503418445587, -0.08591089397668839, -0.11560416966676712, '\n",
      " '0.17263901233673096, -0.8094390630722046, 0.13066361844539642, '\n",
      " '-0.07941065728664398, -0.3496480882167816, 0.0828644260764122, '\n",
      " '-0.11718645691871643, -0.07840429246425629, 0.33746394515037537, '\n",
      " '0.11512187868356705, -0.14139066636562347, 0.3372342586517334, '\n",
      " '-0.2178741991519928, 0.14698289334774017, -0.16493557393550873, '\n",
      " '-0.02693898417055607, 0.041076794266700745, 0.03187549486756325, '\n",
      " '-0.04791449010372162, -0.016195042058825493, -0.26017022132873535, '\n",
      " '-0.24158567190170288, -0.011827627196907997, 0.26194342970848083, '\n",
      " '-0.15624208748340607, 0.2036067545413971, 0.08329547196626663, '\n",
      " '-0.03929685056209564, 0.22448310256004333, -0.013941960409283638, '\n",
      " '-0.046772994101047516, -0.08533495664596558, -0.12055794894695282, '\n",
      " '-0.03970174118876457, 0.14608612656593323, -0.15999038517475128, '\n",
      " '0.40207359194755554, -0.24175342917442322, 0.25374293327331543, '\n",
      " '-0.08849341422319412, -0.02818303555250168, 0.0413861945271492, '\n",
      " '-0.19412223994731903, -0.001797157688997686, -0.08733651787042618]}}')\n"
     ]
    }
   ],
   "source": [
    "r = requests.get(esIndex+'/_doc/1')\n",
    "pprint(r.text)"
   ]
  },
  {
   "cell_type": "code",
   "execution_count": 20,
   "metadata": {},
   "outputs": [
    {
     "name": "stdout",
     "output_type": "stream",
     "text": [
      "{'_shards': {'failed': 0, 'skipped': 0, 'successful': 1, 'total': 1},\n",
      " 'hits': {'hits': [{'_id': '1',\n",
      "                    '_index': 'bios',\n",
      "                    '_score': 2.0,\n",
      "                    '_source': {},\n",
      "                    '_type': '_doc'},\n",
      "                   {'_id': '80',\n",
      "                    '_index': 'bios',\n",
      "                    '_score': 1.8732605,\n",
      "                    '_source': {},\n",
      "                    '_type': '_doc'},\n",
      "                   {'_id': '12',\n",
      "                    '_index': 'bios',\n",
      "                    '_score': 1.862133,\n",
      "                    '_source': {},\n",
      "                    '_type': '_doc'},\n",
      "                   {'_id': '30',\n",
      "                    '_index': 'bios',\n",
      "                    '_score': 1.8555069,\n",
      "                    '_source': {},\n",
      "                    '_type': '_doc'},\n",
      "                   {'_id': '33',\n",
      "                    '_index': 'bios',\n",
      "                    '_score': 1.8527236,\n",
      "                    '_source': {},\n",
      "                    '_type': '_doc'},\n",
      "                   {'_id': '34',\n",
      "                    '_index': 'bios',\n",
      "                    '_score': 1.8517878,\n",
      "                    '_source': {},\n",
      "                    '_type': '_doc'},\n",
      "                   {'_id': '5',\n",
      "                    '_index': 'bios',\n",
      "                    '_score': 1.8504579,\n",
      "                    '_source': {},\n",
      "                    '_type': '_doc'},\n",
      "                   {'_id': '95',\n",
      "                    '_index': 'bios',\n",
      "                    '_score': 1.8465229,\n",
      "                    '_source': {},\n",
      "                    '_type': '_doc'},\n",
      "                   {'_id': '40',\n",
      "                    '_index': 'bios',\n",
      "                    '_score': 1.8459303,\n",
      "                    '_source': {},\n",
      "                    '_type': '_doc'},\n",
      "                   {'_id': '4',\n",
      "                    '_index': 'bios',\n",
      "                    '_score': 1.8438182,\n",
      "                    '_source': {},\n",
      "                    '_type': '_doc'}],\n",
      "          'max_score': 2.0,\n",
      "          'total': {'relation': 'eq', 'value': 100}},\n",
      " 'timed_out': False,\n",
      " 'took': 56}\n"
     ]
    }
   ],
   "source": [
    "vec = json.loads(r.text)[\"_source\"][\"bio_vector\"]\n",
    "q={\n",
    "  \"_source\": {\n",
    "        \"includes\": [ \"name\"]\n",
    "        },\n",
    "  \"query\": {\n",
    "    \"script_score\": {\n",
    "\n",
    "      \"query\" : {\n",
    "        \"match_all\" : {}\n",
    "      },\n",
    "      \"script\": {\n",
    "        \"source\": \"cosineSimilarity(params.query_vector, doc['bio_vector']) + 1.0\", \n",
    "        \"params\": {\n",
    "          \"query_vector\": vec\n",
    "        }\n",
    "      }\n",
    "    }\n",
    "  }\n",
    "}\n",
    "res= es.search(index=_index, body=q)\n",
    "\n",
    "pprint(res)"
   ]
  },
  {
   "cell_type": "code",
   "execution_count": 62,
   "metadata": {},
   "outputs": [
    {
     "data": {
      "text/plain": [
       "[236695, 60898, 1136406, 10990, 139820, 7060, 1315036, 84214, 10980, 10989]"
      ]
     },
     "execution_count": 62,
     "metadata": {},
     "output_type": "execute_result"
    }
   ],
   "source": [
    "[hit['_source']['_actorID'] for hit in res['hits']['hits']]"
   ]
  },
  {
   "cell_type": "code",
   "execution_count": null,
   "metadata": {},
   "outputs": [],
   "source": []
  },
  {
   "cell_type": "code",
   "execution_count": null,
   "metadata": {},
   "outputs": [],
   "source": []
  },
  {
   "cell_type": "markdown",
   "metadata": {},
   "source": [
    "# REDUCE DIMENSIONS"
   ]
  },
  {
   "cell_type": "markdown",
   "metadata": {},
   "source": [
    "### Visualize the sentence arrays in reduced Dimensions using PCA and TSNE\n",
    "\n",
    "Use PCA and t-SNE to reduce the 1,024 dimensions which are output from ELMo down to 2 so that we can review the outputs from the model.\n",
    "\n",
    "In machine learning, dimensionality reduction is the process of reducing the number of random variables under consideration by obtaining a set of principal variables. By reducing the dimension of your feature space, you have fewer relationships between features to consider which can be explored and visualized easily and also you are less likely to overfit your model. https://www.datacamp.com/community/tutorials/introduction-t-sne\n",
    "\n",
    "#### Principal Component Analysis or PCA \n",
    "Principal Component Analysis (PCA)is a linear feature extraction technique. It performs a linear mapping of the data to a lower-dimensional space in such a way that the variance of the data in the low-dimensional representation is maximized. It does so by calculating the eigenvectors from the covariance matrix. The eigenvectors that correspond to the largest eigenvalues (the principal components) are used to reconstruct a significant fraction of the variance of the original data.\n",
    "\n",
    "In simpler terms, PCA combines your input features in a specific way that you can drop the least important feature while still retaining the most valuable parts of all of the features. As an added benefit, each of the new features or components created after PCA are all independent of one another.\n",
    "t-Distributed Stochastic Neighbor Embedding (t-SNE)\n",
    "\n",
    "#### t-Distributed Stochastic Neighbor Embedding (t-SNE) \n",
    "is a non-linear technique for dimensionality reduction that is particularly well suited for the visualization of high-dimensional datasets. It is extensively applied in image processing, NLP, genomic data and speech processing.\n"
   ]
  },
  {
   "cell_type": "code",
   "execution_count": null,
   "metadata": {},
   "outputs": [],
   "source": [
    "### NOTE - this takes a bit of time to reduce 1024 by 15316 array into 2 dimensions\n",
    "from sklearn.decomposition import PCA\n",
    "\n",
    "pca = PCA(n_components=50)  # was 50\n",
    "y = pca.fit_transform(xin)\n",
    "\n",
    "# t-Distributed Stochastic Neighbor Embedding (t-SNE) - Dimensionality Reduction technique\n",
    "from sklearn.manifold import TSNE\n",
    "y = TSNE(n_components=2).fit_transform(y)"
   ]
  },
  {
   "cell_type": "code",
   "execution_count": null,
   "metadata": {},
   "outputs": [],
   "source": [
    "# Build a unified data frame (udf) with columns: MovieID, Plot, Genre, and Y-transform\n",
    "# udf = pd.DataFrame(columns=['MovieID', 'Plot', 'Genre','Y-Transform'])\n",
    "\n",
    "i=0\n",
    "row_list = []\n",
    "for key in plot_dict: \n",
    "    row_dict = {'MovieID':key,\n",
    "                'Plot':sentences[i],\n",
    "                'Genre':genre_dict[key],\n",
    "                'Y-Transform-X': y[i][0],\n",
    "                'Y-Transform-Y': y[i][1],\n",
    "               }\n",
    "    row_list.append(row_dict)\n",
    "    i += 1\n",
    "udf = pd.DataFrame(row_list)"
   ]
  },
  {
   "cell_type": "code",
   "execution_count": null,
   "metadata": {},
   "outputs": [],
   "source": [
    "udf.to_csv(\"UnifiedData.csv\", index=False)"
   ]
  },
  {
   "cell_type": "code",
   "execution_count": null,
   "metadata": {},
   "outputs": [],
   "source": [
    "# Test below"
   ]
  },
  {
   "cell_type": "code",
   "execution_count": null,
   "metadata": {},
   "outputs": [],
   "source": [
    "udf.head()"
   ]
  },
  {
   "cell_type": "code",
   "execution_count": null,
   "metadata": {},
   "outputs": [],
   "source": [
    "udf = pd.read_csv(\"../data/elmoWeightsAll/UnifiedData.csv\", dtype={'MovieID':str} )\n",
    "udf.head()"
   ]
  }
 ],
 "metadata": {
  "colab": {
   "collapsed_sections": [],
   "name": "Elmo contextual embeddings.ipynb",
   "provenance": [],
   "version": "0.3.2"
  },
  "kernelspec": {
   "display_name": "Python 3",
   "language": "python",
   "name": "python3"
  },
  "language_info": {
   "codemirror_mode": {
    "name": "ipython",
    "version": 3
   },
   "file_extension": ".py",
   "mimetype": "text/x-python",
   "name": "python",
   "nbconvert_exporter": "python",
   "pygments_lexer": "ipython3",
   "version": "3.7.3"
  }
 },
 "nbformat": 4,
 "nbformat_minor": 4
}
