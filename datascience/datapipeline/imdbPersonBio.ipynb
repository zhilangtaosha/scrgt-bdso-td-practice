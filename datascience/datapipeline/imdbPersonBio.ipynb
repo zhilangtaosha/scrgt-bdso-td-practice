{
 "cells": [
  {
   "cell_type": "markdown",
   "metadata": {},
   "source": [
    "# IMDB Person Bio "
   ]
  },
  {
   "cell_type": "code",
   "execution_count": null,
   "metadata": {},
   "outputs": [],
   "source": [
    "\n",
    "import os\n",
    "import sys\n",
    "import time\n",
    "import logging\n",
    "import numpy as np\n",
    "import pandas as pd\n",
    "from imdb import IMDb\n",
    "import json\n",
    "from datetime import datetime\n",
    "# create an instance of the IMDb class\n",
    "ia = IMDb()\n"
   ]
  },
  {
   "cell_type": "code",
   "execution_count": null,
   "metadata": {},
   "outputs": [],
   "source": [
    "topActors = pd.read_csv('./top100Actors.txt', \n",
    "                     sep='\\t',\n",
    "                     header=0, \n",
    "                    dtype=str)\n",
    "print(type(topActors))\n",
    "topActors.head(15)"
   ]
  },
  {
   "cell_type": "code",
   "execution_count": null,
   "metadata": {},
   "outputs": [],
   "source": []
  },
  {
   "cell_type": "code",
   "execution_count": null,
   "metadata": {},
   "outputs": [],
   "source": []
  },
  {
   "cell_type": "code",
   "execution_count": null,
   "metadata": {},
   "outputs": [],
   "source": []
  },
  {
   "cell_type": "code",
   "execution_count": null,
   "metadata": {},
   "outputs": [],
   "source": [
    "actorsDF = topActors[['Rank','First Name','Last Name']]\n",
    "actorsDF['Full Name']= actorsDF['First Name']+' '+actorsDF['Last Name']\n",
    "actorsDF = actorsDF.drop(['First Name','Last Name'], axis=1)\n",
    "actors = actorsDF.values.tolist()"
   ]
  },
  {
   "cell_type": "markdown",
   "metadata": {},
   "source": [
    "# Search by actor and return biographic data"
   ]
  },
  {
   "cell_type": "code",
   "execution_count": null,
   "metadata": {},
   "outputs": [],
   "source": [
    "# search for a person name\n",
    "def imdbSearchPerson(match_actor):\n",
    "    persons = ia.search_person(match_actor)\n",
    "    for person in persons:\n",
    "        if person['name'] == match_actor:\n",
    "            actorID = person.getID()\n",
    "            return actorID\n",
    "        else:\n",
    "            print(persons[0])"
   ]
  },
  {
   "cell_type": "code",
   "execution_count": null,
   "metadata": {},
   "outputs": [],
   "source": []
  },
  {
   "cell_type": "code",
   "execution_count": null,
   "metadata": {},
   "outputs": [],
   "source": []
  },
  {
   "cell_type": "code",
   "execution_count": null,
   "metadata": {},
   "outputs": [],
   "source": [
    "def imdbPersonBio(actorID):\n",
    "    personBio=ia.get_person(actorID, info=['biography'])\n",
    "    personBioDic ={}\n",
    "    personBioKeys =personBio.infoset2keys\n",
    "\n",
    "    for key in personBioKeys['biography']:\n",
    "        try:\n",
    "            # TODO : clean out special IMDB chars\n",
    "            personBioDic[key]= personBio.data[key]\n",
    "        except:\n",
    "            print('Error adding key :', key)\n",
    "\n",
    "    return personBioDic\n"
   ]
  },
  {
   "cell_type": "code",
   "execution_count": null,
   "metadata": {},
   "outputs": [],
   "source": [
    "for actor in actors:\n",
    "    try:\n",
    "        _actor_id = actor[0]\n",
    "        actorFullName=actor[1]\n",
    "        actorID = imdbSearchPerson(actorFullName)\n",
    "        personBio = imdbPersonBio(actorID)\n",
    "        personBio.update( {'_actorID': _actor_id,  '_source': 'IMDB', 'actorID': actorID, 'created_utc_dt': datetime.utcnow().strftime(\"%m/%d/%Y, %H:%M:%S\")})\n",
    "\n",
    "        f = open('./data/person/imdb/imdb_p_'+_actor_id+'.json', 'w+')\n",
    "        f.write(json.dumps(personBio))\n",
    "        f.close()\n",
    "    except:\n",
    "        print('Error',  _actor_id)"
   ]
  },
  {
   "cell_type": "code",
   "execution_count": null,
   "metadata": {},
   "outputs": [],
   "source": []
  },
  {
   "cell_type": "markdown",
   "metadata": {},
   "source": [
    "# Retrieve Movie info from IMDB "
   ]
  },
  {
   "cell_type": "code",
   "execution_count": null,
   "metadata": {},
   "outputs": [],
   "source": [
    "import os\n",
    "import sys\n",
    "import time\n",
    "from datetime import datetime\n",
    "import urllib.parse\n",
    "import http.client\n",
    "import json\n",
    "import logging\n",
    "logger = logging.getLogger('movieInfo')\n",
    "logger.setLevel(logging.INFO)"
   ]
  },
  {
   "cell_type": "code",
   "execution_count": null,
   "metadata": {},
   "outputs": [],
   "source": [
    "path_to_json = './data/cast/themoviedb/'\n",
    "json_files = [path_to_json+pos_json for pos_json in os.listdir(path_to_json) if pos_json.endswith('.json')]\n",
    "len(json_files)\n",
    "df = pd.concat([pd.read_json(f , dtype=str) for f in json_files], ignore_index = True)\n",
    "df"
   ]
  },
  {
   "cell_type": "code",
   "execution_count": null,
   "metadata": {},
   "outputs": [],
   "source": [
    "movieDF = df[['movieID','movieTitle']]\n",
    "movieDF.drop_duplicates(keep = False, inplace = True) \n",
    "movieDF.head()\n",
    "\n",
    "movieDF.to_csv('./data/movies/movie_list.tsv', sep='\\t')"
   ]
  },
  {
   "cell_type": "code",
   "execution_count": null,
   "metadata": {},
   "outputs": [],
   "source": [
    "movieDF.to_csv('./data/movies/movie_list.tsv', sep='\\t')"
   ]
  },
  {
   "cell_type": "code",
   "execution_count": null,
   "metadata": {},
   "outputs": [],
   "source": []
  },
  {
   "cell_type": "code",
   "execution_count": null,
   "metadata": {},
   "outputs": [],
   "source": [
    "from imdb import IMDb\n",
    "# create an instance of the IMDb class\n",
    "ia = IMDb()\n",
    "print(ia.get_movie_infoset())\n",
    "print(ia.get_person_infoset())\n",
    "print(ia.get_company_infoset())\n"
   ]
  },
  {
   "cell_type": "markdown",
   "metadata": {},
   "source": [
    "# Extract IMDB Movie metadata "
   ]
  },
  {
   "cell_type": "code",
   "execution_count": null,
   "metadata": {},
   "outputs": [],
   "source": [
    "main_attributes= ['genres', 'runtimes', 'countries', 'country codes', 'language codes', 'color info', 'aspect ratio', 'sound mix', 'certificates', 'original air date',  'rating',  'votes',  'cover url',  'plot outline',  'languages', 'title', 'year',  'kind']\n",
    "person_attributes = ['cast','directors',  'writers',  'producers', 'composers']\n",
    "company_atttributes = ['production companies',  'distributors','special effects']\n",
    "object_attributes = set(person_attributes+ company_atttributes )\n",
    "person_nodes=[]\n",
    "company_nodes=[]\n",
    "person_edges=[]\n",
    "company_edges=[]\n",
    "user_reviews=[]\n",
    "from collections import defaultdict\n",
    "movie_person = defaultdict(list)\n",
    "movie_companies = defaultdict(list)\n",
    "\n",
    "for index, row in movieDF.iterrows():\n",
    "        movieInfo={}\n",
    "        movieID = row['movieID']\n",
    "        movieTitle = row['movieTitle']\n",
    "        movies = ia.search_movie(movieTitle)\n",
    "        try:\n",
    "            \n",
    "            if movies:\n",
    "                IMDB_movieID = movies[0].movieID\n",
    "                movie = ia.get_movie(IMDB_movieID)\n",
    "                movieInfo.update( {'_id': movieID, 'source': 'IMDB', 'created_utc_dt': datetime.utcnow().strftime(\"%m/%d/%Y, %H:%M:%S\")})\n",
    "\n",
    "                # Return available movie attributes \n",
    "                movie_keys= movie.infoset2keys\n",
    "                movie_keys=set(movie_keys['main'])\n",
    "                matched_keys = movie_keys.difference(object_attributes)\n",
    "\n",
    "                #= set(main_attributes).intersection(set(movie_keys['main']))\n",
    "\n",
    "\n",
    "                for key in matched_keys:\n",
    "                    if type(movie.data[key]) == list:\n",
    "                        if str(type(movie.data[key][0])).find('imdb.') != -1:\n",
    "                            pass\n",
    "                        else:\n",
    "                            movieInfo[key]= movie.data[key]\n",
    "                    else:\n",
    "                        movieInfo[key]= movie.data[key]\n",
    "\n",
    "\n",
    "                for company_info in set(movie_keys).intersection(set(company_atttributes)) :\n",
    "                    for info in movie.data[company_info]:\n",
    "                        movie_companies[company_info]=  list(set( movie_companies[company_info]+ [info['name']] ))  \n",
    "\n",
    "                for person_info in set(movie_keys).intersection(set(person_attributes)):\n",
    "                    for persons in movie.data[person_info]:\n",
    "                        try:\n",
    "                            movie_person[person_info] = list(set( movie_person[person_info] + [persons['name']] ))   \n",
    "                        except:\n",
    "                            continue\n",
    "                movieInfo['cast'] = movie_person\n",
    "                movieInfo['companies'] = movie_companies\n",
    "\n",
    "                movieInfo['votes']= ia.get_movie(movieID, info=['vote details']).data\n",
    "\n",
    "                #print(movieInfo)\n",
    "                movie_file = open('./data/movies/imdb/imdb_m_'+str(movieID)+'.json',\"w+\")\n",
    "                movie_file.write(json.dumps(movieInfo))\n",
    "                movie_file.close()    \n",
    "                \n",
    "        except Exception as e:\n",
    "            logger.error('ERROR processing actor bio: '+ str(e))\n"
   ]
  },
  {
   "cell_type": "code",
   "execution_count": null,
   "metadata": {},
   "outputs": [],
   "source": []
  }
 ],
 "metadata": {
  "kernelspec": {
   "display_name": "Python 3",
   "language": "python",
   "name": "python3"
  },
  "language_info": {
   "codemirror_mode": {
    "name": "ipython",
    "version": 3
   },
   "file_extension": ".py",
   "mimetype": "text/x-python",
   "name": "python",
   "nbconvert_exporter": "python",
   "pygments_lexer": "ipython3",
   "version": "3.7.3"
  }
 },
 "nbformat": 4,
 "nbformat_minor": 4
}
