{
 "cells": [
  {
   "cell_type": "markdown",
   "metadata": {},
   "source": [
    "# TheMovieDB.org\n",
    "   https://www.themoviedb.org\n",
    "   \n",
    "   https://www.themoviedb.org/documentation/api?language=en-US\n",
    "   \n",
    "   https://developers.themoviedb.org/3/getting-started/introduction\n",
    "  \n",
    "### Request Limits\n",
    "    40 request every 10 seconds\n",
    "    https://developers.themoviedb.org/3/getting-started/request-rate-limiting"
   ]
  },
  {
   "cell_type": "code",
   "execution_count": 1,
   "metadata": {},
   "outputs": [
    {
     "ename": "FileNotFoundError",
     "evalue": "[Errno 2] No such file or directory: '/home/jovyan/scrgt-bdso-cc-datascience/datapipeline'",
     "output_type": "error",
     "traceback": [
      "\u001b[0;31m---------------------------------------------------------------------------\u001b[0m",
      "\u001b[0;31mFileNotFoundError\u001b[0m                         Traceback (most recent call last)",
      "\u001b[0;32m<ipython-input-1-34c7c585497d>\u001b[0m in \u001b[0;36m<module>\u001b[0;34m\u001b[0m\n\u001b[1;32m      1\u001b[0m \u001b[0;32mimport\u001b[0m \u001b[0mos\u001b[0m\u001b[0;34m\u001b[0m\u001b[0;34m\u001b[0m\u001b[0m\n\u001b[0;32m----> 2\u001b[0;31m \u001b[0mos\u001b[0m\u001b[0;34m.\u001b[0m\u001b[0mchdir\u001b[0m\u001b[0;34m(\u001b[0m\u001b[0;34m'/home/jovyan/scrgt-bdso-cc-datascience/datapipeline'\u001b[0m\u001b[0;34m)\u001b[0m\u001b[0;34m\u001b[0m\u001b[0;34m\u001b[0m\u001b[0m\n\u001b[0m",
      "\u001b[0;31mFileNotFoundError\u001b[0m: [Errno 2] No such file or directory: '/home/jovyan/scrgt-bdso-cc-datascience/datapipeline'"
     ]
    }
   ],
   "source": [
    "import os\n",
    "os.chdir('/home/jovyan/scrgt-bdso-cc-datascience/datapipeline')\n"
   ]
  },
  {
   "cell_type": "code",
   "execution_count": 2,
   "metadata": {},
   "outputs": [],
   "source": [
    "import os\n",
    "import sys\n",
    "import time\n",
    "from datetime import datetime\n",
    "import urllib.parse\n",
    "import http.client\n",
    "import json\n",
    "import pandas as pd\n",
    "\n",
    "import logging\n",
    "logger = logging.getLogger('actorInfo')\n",
    "logger.setLevel(logging.INFO)\n",
    "\n",
    "\n",
    "conn = http.client.HTTPSConnection(\"api.themoviedb.org\")\n",
    "source = 'themoviedb'\n",
    "payload = \"{}\"\n",
    "\n",
    "apikey = 'd1fe56bd9e9956f57bb056a11cdbeb6d'"
   ]
  },
  {
   "cell_type": "code",
   "execution_count": 3,
   "metadata": {},
   "outputs": [],
   "source": [
    "def searchActor(actor_name):\n",
    "    urlactor = urllib.parse.quote(actor_name)\n",
    "    conn.request(\"GET\", \"/3/search/person?include_adult=false&page=1&query={0}&language=en-US&api_key={1}\".format(urlactor, apikey), payload)\n",
    "\n",
    "    res = conn.getresponse()\n",
    "    data = res.read()\n",
    "    data = json.loads(data)\n",
    "    for result in data['results']:\n",
    "        if result['name']== actor_name:\n",
    "            # return the actor ID\n",
    "            actorID = result['id']\n",
    "            return actorID\n",
    "        else:\n",
    "            print(\"No actor found : \", data)"
   ]
  },
  {
   "cell_type": "code",
   "execution_count": 4,
   "metadata": {},
   "outputs": [],
   "source": [
    "def getActorBio(actorID):\n",
    "    conn.request(\"GET\", \"/3/person/{0}?language=en-US&api_key={1}\".format(actorID, apikey), payload)\n",
    "\n",
    "    res = conn.getresponse()\n",
    "    data = res.read()\n",
    "    data = json.loads(data)\n",
    "    return data"
   ]
  },
  {
   "cell_type": "code",
   "execution_count": 5,
   "metadata": {},
   "outputs": [],
   "source": [
    "def getActorBiometric(actorId):\n",
    "    conn.request(\"GET\", \"/3/person/{0}/images?api_key={1}\".format(actorID, apikey), payload)\n",
    "\n",
    "    res = conn.getresponse()\n",
    "    data = res.read()\n",
    "    data = json.loads(data)\n",
    "    return data['profiles']\n"
   ]
  },
  {
   "cell_type": "code",
   "execution_count": 6,
   "metadata": {},
   "outputs": [],
   "source": [
    "def getActorRoles(actorID):\n",
    "    conn.request(\"GET\", \"/3/person/{0}/movie_credits?language=en-US&api_key={1}\".format(actorID, apikey), payload)\n",
    "\n",
    "    res = conn.getresponse()\n",
    "    data = res.read()\n",
    "    data = json.loads(data)\n",
    "    cast=[]\n",
    "    for role in data['cast']:\n",
    "        try:\n",
    "            release_date=  int( datetime.strptime(role['release_date'].strip(), '%Y-%m-%d').strftime('%Y%m%d'))\n",
    "            if release_date>=20090601 and release_date <= 20190601:\n",
    "                cast.append(role)\n",
    "        except Exception as e:\n",
    "            logger.error('ERROR parsing release date: '+ str(e))\n",
    "            \n",
    "    return cast\n"
   ]
  },
  {
   "cell_type": "code",
   "execution_count": 7,
   "metadata": {},
   "outputs": [],
   "source": [
    "def getActorExternalIDs(actorID):\n",
    "    conn.request(\"GET\", \"/3/person/{0}/external_ids?language=en-US&api_key={1}\".format(actorID, apikey), payload)\n",
    "\n",
    "    res = conn.getresponse()\n",
    "    data = res.read()\n",
    "    data = json.loads(data)\n",
    "    return data"
   ]
  },
  {
   "cell_type": "code",
   "execution_count": 8,
   "metadata": {},
   "outputs": [],
   "source": [
    "def genActorMovieVertex(_actorID, actorFullName, roles):\n",
    "    actor_movies_vertex =[]\n",
    "    for movie in roles:\n",
    "        link = {\"actorID\" : actorID, \n",
    "                \"movieID\": movie['id'],\n",
    "                'characterID': movie['credit_id'],\n",
    "                'character': movie['character'] , \n",
    "                'actor': actor,\n",
    "                'movieTitle': movie['title'],\n",
    "                '_actorID': _actorID, \n",
    "                '_source': source, \n",
    "                'actor': actorFullName, \n",
    "                'created_utc_dt': datetime.utcnow().strftime(\"%m/%d/%Y, %H:%M:%S\")} \n",
    "        actor_movies_vertex.append(link)\n",
    "    return actor_movies_vertex\n"
   ]
  },
  {
   "cell_type": "code",
   "execution_count": 9,
   "metadata": {},
   "outputs": [
    {
     "data": {
      "text/html": [
       "<div>\n",
       "<style scoped>\n",
       "    .dataframe tbody tr th:only-of-type {\n",
       "        vertical-align: middle;\n",
       "    }\n",
       "\n",
       "    .dataframe tbody tr th {\n",
       "        vertical-align: top;\n",
       "    }\n",
       "\n",
       "    .dataframe thead th {\n",
       "        text-align: right;\n",
       "    }\n",
       "</style>\n",
       "<table border=\"1\" class=\"dataframe\">\n",
       "  <thead>\n",
       "    <tr style=\"text-align: right;\">\n",
       "      <th></th>\n",
       "      <th>Rank</th>\n",
       "      <th>First Name</th>\n",
       "      <th>Last Name</th>\n",
       "      <th>Domestic Box Office</th>\n",
       "      <th>Movies</th>\n",
       "      <th>Average</th>\n",
       "    </tr>\n",
       "  </thead>\n",
       "  <tbody>\n",
       "    <tr>\n",
       "      <th>0</th>\n",
       "      <td>1</td>\n",
       "      <td>Robert</td>\n",
       "      <td>Downey Jr.</td>\n",
       "      <td>$5,374,149,735</td>\n",
       "      <td>43</td>\n",
       "      <td>$124,980,226</td>\n",
       "    </tr>\n",
       "    <tr>\n",
       "      <th>1</th>\n",
       "      <td>2</td>\n",
       "      <td>Samuel L.</td>\n",
       "      <td>Jackson</td>\n",
       "      <td>$5,234,777,328</td>\n",
       "      <td>60</td>\n",
       "      <td>$87,246,289</td>\n",
       "    </tr>\n",
       "    <tr>\n",
       "      <th>2</th>\n",
       "      <td>3</td>\n",
       "      <td>Scarlett</td>\n",
       "      <td>Johansson</td>\n",
       "      <td>$4,859,403,632</td>\n",
       "      <td>28</td>\n",
       "      <td>$173,550,130</td>\n",
       "    </tr>\n",
       "    <tr>\n",
       "      <th>3</th>\n",
       "      <td>4</td>\n",
       "      <td>Tom</td>\n",
       "      <td>Hanks</td>\n",
       "      <td>$4,692,293,839</td>\n",
       "      <td>51</td>\n",
       "      <td>$92,005,762</td>\n",
       "    </tr>\n",
       "    <tr>\n",
       "      <th>4</th>\n",
       "      <td>5</td>\n",
       "      <td>Bradley</td>\n",
       "      <td>Cooper</td>\n",
       "      <td>$4,263,310,067</td>\n",
       "      <td>26</td>\n",
       "      <td>$163,973,464</td>\n",
       "    </tr>\n",
       "    <tr>\n",
       "      <th>5</th>\n",
       "      <td>6</td>\n",
       "      <td>Tom</td>\n",
       "      <td>Cruise</td>\n",
       "      <td>$3,937,740,350</td>\n",
       "      <td>42</td>\n",
       "      <td>$93,755,723</td>\n",
       "    </tr>\n",
       "    <tr>\n",
       "      <th>6</th>\n",
       "      <td>7</td>\n",
       "      <td>Zoe</td>\n",
       "      <td>Saldana</td>\n",
       "      <td>$3,932,967,185</td>\n",
       "      <td>26</td>\n",
       "      <td>$151,267,969</td>\n",
       "    </tr>\n",
       "    <tr>\n",
       "      <th>7</th>\n",
       "      <td>8</td>\n",
       "      <td>Chris</td>\n",
       "      <td>Hemsworth</td>\n",
       "      <td>$3,915,069,280</td>\n",
       "      <td>22</td>\n",
       "      <td>$177,957,695</td>\n",
       "    </tr>\n",
       "    <tr>\n",
       "      <th>8</th>\n",
       "      <td>9</td>\n",
       "      <td>Chris</td>\n",
       "      <td>Pratt</td>\n",
       "      <td>$3,866,023,741</td>\n",
       "      <td>17</td>\n",
       "      <td>$227,413,161</td>\n",
       "    </tr>\n",
       "    <tr>\n",
       "      <th>9</th>\n",
       "      <td>10</td>\n",
       "      <td>Harrison</td>\n",
       "      <td>Ford</td>\n",
       "      <td>$3,850,910,074</td>\n",
       "      <td>40</td>\n",
       "      <td>$96,272,752</td>\n",
       "    </tr>\n",
       "    <tr>\n",
       "      <th>10</th>\n",
       "      <td>11</td>\n",
       "      <td>Chris</td>\n",
       "      <td>Evans</td>\n",
       "      <td>$3,782,386,348</td>\n",
       "      <td>24</td>\n",
       "      <td>$157,599,431</td>\n",
       "    </tr>\n",
       "    <tr>\n",
       "      <th>11</th>\n",
       "      <td>12</td>\n",
       "      <td>Johnny</td>\n",
       "      <td>Depp</td>\n",
       "      <td>$3,684,655,600</td>\n",
       "      <td>51</td>\n",
       "      <td>$72,248,149</td>\n",
       "    </tr>\n",
       "    <tr>\n",
       "      <th>12</th>\n",
       "      <td>13</td>\n",
       "      <td>Eddie</td>\n",
       "      <td>Murphy</td>\n",
       "      <td>$3,583,063,429</td>\n",
       "      <td>41</td>\n",
       "      <td>$87,391,791</td>\n",
       "    </tr>\n",
       "    <tr>\n",
       "      <th>13</th>\n",
       "      <td>14</td>\n",
       "      <td>Mark</td>\n",
       "      <td>Ruffalo</td>\n",
       "      <td>$3,337,411,035</td>\n",
       "      <td>21</td>\n",
       "      <td>$158,924,335</td>\n",
       "    </tr>\n",
       "    <tr>\n",
       "      <th>14</th>\n",
       "      <td>15</td>\n",
       "      <td>Vin</td>\n",
       "      <td>Diesel</td>\n",
       "      <td>$3,203,319,941</td>\n",
       "      <td>23</td>\n",
       "      <td>$139,274,780</td>\n",
       "    </tr>\n",
       "  </tbody>\n",
       "</table>\n",
       "</div>"
      ],
      "text/plain": [
       "   Rank First Name   Last Name Domestic Box Office Movies        Average\n",
       "0     1     Robert  Downey Jr.     $5,374,149,735      43  $124,980,226 \n",
       "1     2  Samuel L.     Jackson     $5,234,777,328      60   $87,246,289 \n",
       "2     3   Scarlett   Johansson     $4,859,403,632      28  $173,550,130 \n",
       "3     4        Tom       Hanks     $4,692,293,839      51   $92,005,762 \n",
       "4     5    Bradley      Cooper     $4,263,310,067      26  $163,973,464 \n",
       "5     6        Tom      Cruise     $3,937,740,350      42   $93,755,723 \n",
       "6     7        Zoe     Saldana     $3,932,967,185      26  $151,267,969 \n",
       "7     8      Chris   Hemsworth     $3,915,069,280      22  $177,957,695 \n",
       "8     9      Chris       Pratt     $3,866,023,741      17  $227,413,161 \n",
       "9    10   Harrison        Ford     $3,850,910,074      40   $96,272,752 \n",
       "10   11      Chris       Evans     $3,782,386,348      24  $157,599,431 \n",
       "11   12     Johnny        Depp     $3,684,655,600      51   $72,248,149 \n",
       "12   13      Eddie      Murphy     $3,583,063,429      41   $87,391,791 \n",
       "13   14       Mark     Ruffalo     $3,337,411,035      21  $158,924,335 \n",
       "14   15        Vin      Diesel     $3,203,319,941      23  $139,274,780 "
      ]
     },
     "execution_count": 9,
     "metadata": {},
     "output_type": "execute_result"
    }
   ],
   "source": [
    "topActors = pd.read_csv('./top100Actors.txt', \n",
    "                     sep='\\t',\n",
    "                     header=0, \n",
    "                    dtype=str)\n",
    "\n",
    "topActors.head(15)\n"
   ]
  },
  {
   "cell_type": "code",
   "execution_count": 10,
   "metadata": {},
   "outputs": [
    {
     "name": "stderr",
     "output_type": "stream",
     "text": [
      "//anaconda3/lib/python3.7/site-packages/ipykernel_launcher.py:2: SettingWithCopyWarning: \n",
      "A value is trying to be set on a copy of a slice from a DataFrame.\n",
      "Try using .loc[row_indexer,col_indexer] = value instead\n",
      "\n",
      "See the caveats in the documentation: http://pandas.pydata.org/pandas-docs/stable/indexing.html#indexing-view-versus-copy\n",
      "  \n"
     ]
    }
   ],
   "source": [
    "actorsDF = topActors[['Rank','First Name','Last Name']]\n",
    "actorsDF['Full Name']= actorsDF['First Name']+' '+actorsDF['Last Name']\n",
    "actorsDF = actorsDF.drop(['First Name','Last Name'], axis=1)\n",
    "actors = actorsDF.values.tolist()"
   ]
  },
  {
   "cell_type": "code",
   "execution_count": 11,
   "metadata": {},
   "outputs": [
    {
     "name": "stdout",
     "output_type": "stream",
     "text": [
      "Robert Downey Jr.\n"
     ]
    },
    {
     "name": "stderr",
     "output_type": "stream",
     "text": [
      "ERROR parsing release date: time data '' does not match format '%Y-%m-%d'\n",
      "ERROR parsing release date: time data '' does not match format '%Y-%m-%d'\n"
     ]
    },
    {
     "name": "stdout",
     "output_type": "stream",
     "text": [
      "Processed :  ['1', 'Robert Downey Jr.']\n"
     ]
    },
    {
     "name": "stderr",
     "output_type": "stream",
     "text": [
      "ERROR parsing release date: time data '' does not match format '%Y-%m-%d'\n",
      "ERROR parsing release date: time data '' does not match format '%Y-%m-%d'\n",
      "ERROR parsing release date: time data '' does not match format '%Y-%m-%d'\n"
     ]
    },
    {
     "name": "stdout",
     "output_type": "stream",
     "text": [
      "Samuel L. Jackson\n",
      "Processed :  ['2', 'Samuel L. Jackson']\n"
     ]
    },
    {
     "name": "stderr",
     "output_type": "stream",
     "text": [
      "ERROR parsing release date: time data '' does not match format '%Y-%m-%d'\n"
     ]
    },
    {
     "name": "stdout",
     "output_type": "stream",
     "text": [
      "Scarlett Johansson\n",
      "Processed :  ['3', 'Scarlett Johansson']\n"
     ]
    },
    {
     "name": "stderr",
     "output_type": "stream",
     "text": [
      "ERROR parsing release date: time data '' does not match format '%Y-%m-%d'\n",
      "ERROR parsing release date: time data '' does not match format '%Y-%m-%d'\n",
      "ERROR parsing release date: time data '' does not match format '%Y-%m-%d'\n"
     ]
    },
    {
     "name": "stdout",
     "output_type": "stream",
     "text": [
      "Tom Hanks\n",
      "Processed :  ['4', 'Tom Hanks']\n"
     ]
    },
    {
     "name": "stderr",
     "output_type": "stream",
     "text": [
      "ERROR parsing release date: time data '' does not match format '%Y-%m-%d'\n",
      "ERROR parsing release date: time data '' does not match format '%Y-%m-%d'\n",
      "ERROR parsing release date: time data '' does not match format '%Y-%m-%d'\n"
     ]
    },
    {
     "name": "stdout",
     "output_type": "stream",
     "text": [
      "Bradley Cooper\n",
      "Processed :  ['5', 'Bradley Cooper']\n"
     ]
    },
    {
     "name": "stderr",
     "output_type": "stream",
     "text": [
      "ERROR parsing release date: time data '' does not match format '%Y-%m-%d'\n",
      "ERROR parsing release date: time data '' does not match format '%Y-%m-%d'\n"
     ]
    },
    {
     "name": "stdout",
     "output_type": "stream",
     "text": [
      "Tom Cruise\n",
      "Processed :  ['6', 'Tom Cruise']\n",
      "Zoe Saldana\n"
     ]
    },
    {
     "name": "stderr",
     "output_type": "stream",
     "text": [
      "ERROR parsing release date: time data '' does not match format '%Y-%m-%d'\n",
      "ERROR parsing release date: time data '' does not match format '%Y-%m-%d'\n"
     ]
    },
    {
     "name": "stdout",
     "output_type": "stream",
     "text": [
      "Processed :  ['7', 'Zoe Saldana']\n"
     ]
    },
    {
     "name": "stderr",
     "output_type": "stream",
     "text": [
      "ERROR parsing release date: time data '' does not match format '%Y-%m-%d'\n",
      "ERROR parsing release date: time data '' does not match format '%Y-%m-%d'\n",
      "ERROR parsing release date: time data '' does not match format '%Y-%m-%d'\n",
      "ERROR parsing release date: time data '' does not match format '%Y-%m-%d'\n"
     ]
    },
    {
     "name": "stdout",
     "output_type": "stream",
     "text": [
      "Chris Hemsworth\n",
      "Processed :  ['8', 'Chris Hemsworth']\n"
     ]
    },
    {
     "name": "stderr",
     "output_type": "stream",
     "text": [
      "ERROR parsing release date: time data '' does not match format '%Y-%m-%d'\n",
      "ERROR parsing release date: time data '' does not match format '%Y-%m-%d'\n",
      "ERROR parsing release date: time data '' does not match format '%Y-%m-%d'\n"
     ]
    },
    {
     "name": "stdout",
     "output_type": "stream",
     "text": [
      "Chris Pratt\n",
      "Processed :  ['9', 'Chris Pratt']\n"
     ]
    },
    {
     "name": "stderr",
     "output_type": "stream",
     "text": [
      "ERROR parsing release date: time data '' does not match format '%Y-%m-%d'\n"
     ]
    },
    {
     "name": "stdout",
     "output_type": "stream",
     "text": [
      "Harrison Ford\n",
      "Processed :  ['10', 'Harrison Ford']\n"
     ]
    },
    {
     "name": "stderr",
     "output_type": "stream",
     "text": [
      "ERROR parsing release date: time data '' does not match format '%Y-%m-%d'\n"
     ]
    },
    {
     "name": "stdout",
     "output_type": "stream",
     "text": [
      "Chris Evans\n",
      "Processed :  ['11', 'Chris Evans']\n"
     ]
    },
    {
     "name": "stderr",
     "output_type": "stream",
     "text": [
      "ERROR parsing release date: time data '' does not match format '%Y-%m-%d'\n"
     ]
    },
    {
     "name": "stdout",
     "output_type": "stream",
     "text": [
      "Johnny Depp\n",
      "Processed :  ['12', 'Johnny Depp']\n"
     ]
    },
    {
     "name": "stderr",
     "output_type": "stream",
     "text": [
      "ERROR parsing release date: 'release_date'\n",
      "ERROR parsing release date: time data '' does not match format '%Y-%m-%d'\n"
     ]
    },
    {
     "name": "stdout",
     "output_type": "stream",
     "text": [
      "Eddie Murphy\n",
      "Processed :  ['13', 'Eddie Murphy']\n"
     ]
    },
    {
     "name": "stderr",
     "output_type": "stream",
     "text": [
      "ERROR parsing release date: time data '' does not match format '%Y-%m-%d'\n",
      "ERROR parsing release date: time data '' does not match format '%Y-%m-%d'\n",
      "ERROR parsing release date: time data '' does not match format '%Y-%m-%d'\n"
     ]
    },
    {
     "name": "stdout",
     "output_type": "stream",
     "text": [
      "Mark Ruffalo\n",
      "Processed :  ['14', 'Mark Ruffalo']\n"
     ]
    },
    {
     "name": "stderr",
     "output_type": "stream",
     "text": [
      "ERROR parsing release date: time data '' does not match format '%Y-%m-%d'\n",
      "ERROR parsing release date: time data '' does not match format '%Y-%m-%d'\n",
      "ERROR parsing release date: time data '' does not match format '%Y-%m-%d'\n",
      "ERROR parsing release date: time data '' does not match format '%Y-%m-%d'\n",
      "ERROR parsing release date: time data '' does not match format '%Y-%m-%d'\n"
     ]
    },
    {
     "name": "stdout",
     "output_type": "stream",
     "text": [
      "Vin Diesel\n",
      "Processed :  ['15', 'Vin Diesel']\n"
     ]
    },
    {
     "name": "stderr",
     "output_type": "stream",
     "text": [
      "ERROR parsing release date: time data '' does not match format '%Y-%m-%d'\n",
      "ERROR parsing release date: time data '' does not match format '%Y-%m-%d'\n",
      "ERROR parsing release date: time data '' does not match format '%Y-%m-%d'\n"
     ]
    },
    {
     "name": "stdout",
     "output_type": "stream",
     "text": [
      "Jeremy Renner\n",
      "Processed :  ['16', 'Jeremy Renner']\n",
      "Don Cheadle\n",
      "Processed :  ['17', 'Don Cheadle']\n"
     ]
    },
    {
     "name": "stderr",
     "output_type": "stream",
     "text": [
      "ERROR parsing release date: time data '' does not match format '%Y-%m-%d'\n",
      "ERROR parsing release date: time data '' does not match format '%Y-%m-%d'\n",
      "ERROR parsing release date: time data '' does not match format '%Y-%m-%d'\n",
      "ERROR parsing release date: time data '' does not match format '%Y-%m-%d'\n",
      "ERROR parsing release date: time data '' does not match format '%Y-%m-%d'\n"
     ]
    },
    {
     "name": "stdout",
     "output_type": "stream",
     "text": [
      "Will Smith\n",
      "Processed :  ['18', 'Will Smith']\n"
     ]
    },
    {
     "name": "stderr",
     "output_type": "stream",
     "text": [
      "ERROR parsing release date: time data '' does not match format '%Y-%m-%d'\n",
      "ERROR parsing release date: time data '' does not match format '%Y-%m-%d'\n"
     ]
    },
    {
     "name": "stdout",
     "output_type": "stream",
     "text": [
      "Matt Damon\n",
      "Processed :  ['19', 'Matt Damon']\n",
      "Emma Watson\n",
      "Processed :  ['20', 'Emma Watson']\n"
     ]
    },
    {
     "name": "stderr",
     "output_type": "stream",
     "text": [
      "ERROR parsing release date: 'release_date'\n",
      "ERROR parsing release date: time data '' does not match format '%Y-%m-%d'\n"
     ]
    },
    {
     "name": "stdout",
     "output_type": "stream",
     "text": [
      "Adam Sandler\n",
      "Processed :  ['21', 'Adam Sandler']\n"
     ]
    },
    {
     "name": "stderr",
     "output_type": "stream",
     "text": [
      "ERROR parsing release date: time data '' does not match format '%Y-%m-%d'\n",
      "ERROR parsing release date: time data '' does not match format '%Y-%m-%d'\n"
     ]
    },
    {
     "name": "stdout",
     "output_type": "stream",
     "text": [
      "Bruce Willis\n",
      "Processed :  ['22', 'Bruce Willis']\n"
     ]
    },
    {
     "name": "stderr",
     "output_type": "stream",
     "text": [
      "ERROR parsing release date: time data '' does not match format '%Y-%m-%d'\n",
      "ERROR parsing release date: 'release_date'\n"
     ]
    },
    {
     "name": "stdout",
     "output_type": "stream",
     "text": [
      "Ben Stiller\n",
      "Processed :  ['23', 'Ben Stiller']\n"
     ]
    },
    {
     "name": "stderr",
     "output_type": "stream",
     "text": [
      "ERROR parsing release date: time data '' does not match format '%Y-%m-%d'\n",
      "ERROR parsing release date: time data '' does not match format '%Y-%m-%d'\n",
      "ERROR parsing release date: time data '' does not match format '%Y-%m-%d'\n"
     ]
    },
    {
     "name": "stdout",
     "output_type": "stream",
     "text": [
      "Chadwick Boseman\n",
      "Processed :  ['24', 'Chadwick Boseman']\n"
     ]
    },
    {
     "name": "stderr",
     "output_type": "stream",
     "text": [
      "ERROR parsing release date: time data '' does not match format '%Y-%m-%d'\n",
      "ERROR parsing release date: time data '' does not match format '%Y-%m-%d'\n",
      "ERROR parsing release date: time data '' does not match format '%Y-%m-%d'\n"
     ]
    },
    {
     "name": "stdout",
     "output_type": "stream",
     "text": [
      "Steve Carell\n",
      "Processed :  ['25', 'Steve Carell']\n"
     ]
    },
    {
     "name": "stderr",
     "output_type": "stream",
     "text": [
      "ERROR parsing release date: time data '' does not match format '%Y-%m-%d'\n",
      "ERROR parsing release date: time data '' does not match format '%Y-%m-%d'\n",
      "ERROR parsing release date: time data '' does not match format '%Y-%m-%d'\n",
      "ERROR parsing release date: time data '' does not match format '%Y-%m-%d'\n",
      "ERROR parsing release date: time data '' does not match format '%Y-%m-%d'\n",
      "ERROR parsing release date: time data '' does not match format '%Y-%m-%d'\n"
     ]
    },
    {
     "name": "stdout",
     "output_type": "stream",
     "text": [
      "Nicolas Cage\n",
      "Processed :  ['26', 'Nicolas Cage']\n",
      "Dwayne Johnson\n"
     ]
    },
    {
     "name": "stderr",
     "output_type": "stream",
     "text": [
      "ERROR parsing release date: 'release_date'\n",
      "ERROR parsing release date: time data '' does not match format '%Y-%m-%d'\n",
      "ERROR parsing release date: 'release_date'\n",
      "ERROR parsing release date: time data '' does not match format '%Y-%m-%d'\n",
      "ERROR parsing release date: time data '' does not match format '%Y-%m-%d'\n",
      "ERROR parsing release date: time data '' does not match format '%Y-%m-%d'\n",
      "ERROR parsing release date: time data '' does not match format '%Y-%m-%d'\n"
     ]
    },
    {
     "name": "stdout",
     "output_type": "stream",
     "text": [
      "Processed :  ['27', 'Dwayne Johnson']\n"
     ]
    },
    {
     "name": "stderr",
     "output_type": "stream",
     "text": [
      "ERROR parsing release date: time data '' does not match format '%Y-%m-%d'\n",
      "ERROR parsing release date: time data '' does not match format '%Y-%m-%d'\n",
      "ERROR parsing release date: time data '' does not match format '%Y-%m-%d'\n",
      "ERROR parsing release date: time data '' does not match format '%Y-%m-%d'\n",
      "ERROR parsing release date: time data '' does not match format '%Y-%m-%d'\n"
     ]
    },
    {
     "name": "stdout",
     "output_type": "stream",
     "text": [
      "Jennifer Lawrence\n",
      "Processed :  ['28', 'Jennifer Lawrence']\n",
      "Robin Williams\n",
      "Processed :  ['29', 'Robin Williams']\n"
     ]
    },
    {
     "name": "stderr",
     "output_type": "stream",
     "text": [
      "ERROR parsing release date: time data '' does not match format '%Y-%m-%d'\n",
      "ERROR parsing release date: 'release_date'\n",
      "ERROR parsing release date: time data '' does not match format '%Y-%m-%d'\n",
      "ERROR parsing release date: time data '' does not match format '%Y-%m-%d'\n"
     ]
    },
    {
     "name": "stdout",
     "output_type": "stream",
     "text": [
      "Josh Brolin\n",
      "Processed :  ['30', 'Josh Brolin']\n",
      "Jim Carrey\n",
      "Processed :  ['31', 'Jim Carrey']\n"
     ]
    },
    {
     "name": "stderr",
     "output_type": "stream",
     "text": [
      "ERROR parsing release date: time data '' does not match format '%Y-%m-%d'\n"
     ]
    },
    {
     "name": "stdout",
     "output_type": "stream",
     "text": [
      "Sandra Bullock\n",
      "Processed :  ['32', 'Sandra Bullock']\n"
     ]
    },
    {
     "name": "stderr",
     "output_type": "stream",
     "text": [
      "ERROR parsing release date: time data '' does not match format '%Y-%m-%d'\n",
      "ERROR parsing release date: time data '' does not match format '%Y-%m-%d'\n"
     ]
    },
    {
     "name": "stdout",
     "output_type": "stream",
     "text": [
      "Daniel Radcliffe\n",
      "Processed :  ['33', 'Daniel Radcliffe']\n"
     ]
    },
    {
     "name": "stderr",
     "output_type": "stream",
     "text": [
      "ERROR parsing release date: time data '' does not match format '%Y-%m-%d'\n",
      "ERROR parsing release date: 'release_date'\n",
      "ERROR parsing release date: time data '' does not match format '%Y-%m-%d'\n",
      "ERROR parsing release date: time data '' does not match format '%Y-%m-%d'\n",
      "ERROR parsing release date: time data '' does not match format '%Y-%m-%d'\n",
      "ERROR parsing release date: time data '' does not match format '%Y-%m-%d'\n"
     ]
    },
    {
     "name": "stdout",
     "output_type": "stream",
     "text": [
      "Hugh Jackman\n",
      "Processed :  ['34', 'Hugh Jackman']\n"
     ]
    },
    {
     "name": "stderr",
     "output_type": "stream",
     "text": [
      "ERROR parsing release date: time data '' does not match format '%Y-%m-%d'\n",
      "ERROR parsing release date: time data '' does not match format '%Y-%m-%d'\n",
      "ERROR parsing release date: time data '' does not match format '%Y-%m-%d'\n"
     ]
    },
    {
     "name": "stdout",
     "output_type": "stream",
     "text": [
      "Robert De Niro\n",
      "Processed :  ['35', 'Robert De Niro']\n"
     ]
    },
    {
     "name": "stderr",
     "output_type": "stream",
     "text": [
      "ERROR parsing release date: time data '' does not match format '%Y-%m-%d'\n",
      "ERROR parsing release date: time data '' does not match format '%Y-%m-%d'\n",
      "ERROR parsing release date: time data '' does not match format '%Y-%m-%d'\n",
      "ERROR parsing release date: time data '' does not match format '%Y-%m-%d'\n"
     ]
    },
    {
     "name": "stdout",
     "output_type": "stream",
     "text": [
      "Liam Neeson\n",
      "Processed :  ['36', 'Liam Neeson']\n"
     ]
    },
    {
     "name": "stderr",
     "output_type": "stream",
     "text": [
      "ERROR parsing release date: time data '' does not match format '%Y-%m-%d'\n",
      "ERROR parsing release date: time data '' does not match format '%Y-%m-%d'\n",
      "ERROR parsing release date: time data '' does not match format '%Y-%m-%d'\n",
      "ERROR parsing release date: time data '' does not match format '%Y-%m-%d'\n",
      "ERROR parsing release date: time data '' does not match format '%Y-%m-%d'\n",
      "ERROR parsing release date: time data '' does not match format '%Y-%m-%d'\n",
      "ERROR parsing release date: time data '' does not match format '%Y-%m-%d'\n",
      "ERROR parsing release date: time data '' does not match format '%Y-%m-%d'\n",
      "ERROR parsing release date: time data '' does not match format '%Y-%m-%d'\n",
      "ERROR parsing release date: 'release_date'\n",
      "ERROR parsing release date: time data '' does not match format '%Y-%m-%d'\n"
     ]
    },
    {
     "name": "stdout",
     "output_type": "stream",
     "text": [
      "Benedict Cumberbatch\n"
     ]
    },
    {
     "name": "stderr",
     "output_type": "stream",
     "text": [
      "ERROR parsing release date: time data '' does not match format '%Y-%m-%d'\n",
      "ERROR parsing release date: time data '' does not match format '%Y-%m-%d'\n",
      "ERROR parsing release date: time data '' does not match format '%Y-%m-%d'\n"
     ]
    },
    {
     "name": "stdout",
     "output_type": "stream",
     "text": [
      "Processed :  ['37', 'Benedict Cumberbatch']\n",
      "Leonardo DiCaprio\n",
      "Processed :  ['38', 'Leonardo DiCaprio']\n",
      "Cameron Diaz\n",
      "Processed :  ['39', 'Cameron Diaz']\n"
     ]
    },
    {
     "name": "stderr",
     "output_type": "stream",
     "text": [
      "ERROR parsing release date: time data '' does not match format '%Y-%m-%d'\n",
      "ERROR parsing release date: time data '' does not match format '%Y-%m-%d'\n",
      "ERROR parsing release date: time data '' does not match format '%Y-%m-%d'\n"
     ]
    },
    {
     "name": "stdout",
     "output_type": "stream",
     "text": [
      "Denzel Washington\n",
      "Processed :  ['40', 'Denzel Washington']\n",
      "Gwyneth Paltrow\n",
      "Processed :  ['41', 'Gwyneth Paltrow']\n",
      "Elizabeth Olsen\n",
      "Processed :  ['42', 'Elizabeth Olsen']\n"
     ]
    },
    {
     "name": "stderr",
     "output_type": "stream",
     "text": [
      "ERROR parsing release date: time data '' does not match format '%Y-%m-%d'\n",
      "ERROR parsing release date: time data '' does not match format '%Y-%m-%d'\n"
     ]
    },
    {
     "name": "stdout",
     "output_type": "stream",
     "text": [
      "Ian McKellen\n",
      "Processed :  ['43', 'Ian McKellen']\n"
     ]
    },
    {
     "name": "stderr",
     "output_type": "stream",
     "text": [
      "ERROR parsing release date: time data '' does not match format '%Y-%m-%d'\n"
     ]
    },
    {
     "name": "stdout",
     "output_type": "stream",
     "text": [
      "Rupert Grint\n",
      "Processed :  ['44', 'Rupert Grint']\n"
     ]
    },
    {
     "name": "stderr",
     "output_type": "stream",
     "text": [
      "ERROR parsing release date: time data '' does not match format '%Y-%m-%d'\n",
      "ERROR parsing release date: time data '' does not match format '%Y-%m-%d'\n",
      "ERROR parsing release date: time data '' does not match format '%Y-%m-%d'\n"
     ]
    },
    {
     "name": "stdout",
     "output_type": "stream",
     "text": [
      "Sebastian Stan\n",
      "Processed :  ['45', 'Sebastian Stan']\n",
      "Tom Hiddleston\n"
     ]
    },
    {
     "name": "stderr",
     "output_type": "stream",
     "text": [
      "ERROR processing actor bio: [Errno 54] Connection reset by peer\n"
     ]
    },
    {
     "name": "stdout",
     "output_type": "stream",
     "text": [
      "Julia Roberts\n"
     ]
    },
    {
     "name": "stderr",
     "output_type": "stream",
     "text": [
      "ERROR parsing release date: time data '' does not match format '%Y-%m-%d'\n",
      "ERROR parsing release date: time data '' does not match format '%Y-%m-%d'\n"
     ]
    },
    {
     "name": "stdout",
     "output_type": "stream",
     "text": [
      "Processed :  ['47', 'Julia Roberts']\n"
     ]
    },
    {
     "name": "stderr",
     "output_type": "stream",
     "text": [
      "ERROR parsing release date: time data '' does not match format '%Y-%m-%d'\n",
      "ERROR parsing release date: time data '' does not match format '%Y-%m-%d'\n",
      "ERROR parsing release date: time data '' does not match format '%Y-%m-%d'\n",
      "ERROR parsing release date: time data '' does not match format '%Y-%m-%d'\n",
      "ERROR parsing release date: time data '' does not match format '%Y-%m-%d'\n",
      "ERROR parsing release date: time data '' does not match format '%Y-%m-%d'\n",
      "ERROR parsing release date: time data '' does not match format '%Y-%m-%d'\n",
      "ERROR parsing release date: time data '' does not match format '%Y-%m-%d'\n"
     ]
    },
    {
     "name": "stdout",
     "output_type": "stream",
     "text": [
      "Ben Affleck\n"
     ]
    },
    {
     "name": "stderr",
     "output_type": "stream",
     "text": [
      "ERROR parsing release date: time data '' does not match format '%Y-%m-%d'\n"
     ]
    },
    {
     "name": "stdout",
     "output_type": "stream",
     "text": [
      "Processed :  ['48', 'Ben Affleck']\n"
     ]
    },
    {
     "name": "stderr",
     "output_type": "stream",
     "text": [
      "ERROR parsing release date: time data '' does not match format '%Y-%m-%d'\n",
      "ERROR parsing release date: time data '' does not match format '%Y-%m-%d'\n"
     ]
    },
    {
     "name": "stdout",
     "output_type": "stream",
     "text": [
      "Dave Bautista\n",
      "Processed :  ['49', 'Dave Bautista']\n"
     ]
    },
    {
     "name": "stderr",
     "output_type": "stream",
     "text": [
      "ERROR parsing release date: time data '' does not match format '%Y-%m-%d'\n"
     ]
    },
    {
     "name": "stdout",
     "output_type": "stream",
     "text": [
      "Paul Bettany\n",
      "Processed :  ['50', 'Paul Bettany']\n"
     ]
    },
    {
     "name": "stderr",
     "output_type": "stream",
     "text": [
      "ERROR parsing release date: time data '' does not match format '%Y-%m-%d'\n"
     ]
    },
    {
     "name": "stdout",
     "output_type": "stream",
     "text": [
      "Karen Gillan\n",
      "Processed :  ['51', 'Karen Gillan']\n",
      "Brad Pitt\n"
     ]
    },
    {
     "name": "stderr",
     "output_type": "stream",
     "text": [
      "ERROR parsing release date: time data '' does not match format '%Y-%m-%d'\n",
      "ERROR parsing release date: time data '' does not match format '%Y-%m-%d'\n"
     ]
    },
    {
     "name": "stdout",
     "output_type": "stream",
     "text": [
      "Processed :  ['52', 'Brad Pitt']\n",
      "John Travolta\n",
      "Processed :  ['53', 'John Travolta']\n"
     ]
    },
    {
     "name": "stderr",
     "output_type": "stream",
     "text": [
      "ERROR parsing release date: time data '' does not match format '%Y-%m-%d'\n",
      "ERROR parsing release date: time data '' does not match format '%Y-%m-%d'\n",
      "ERROR parsing release date: time data '' does not match format '%Y-%m-%d'\n"
     ]
    },
    {
     "name": "stdout",
     "output_type": "stream",
     "text": [
      "Ewan McGregor\n",
      "Processed :  ['54', 'Ewan McGregor']\n"
     ]
    },
    {
     "name": "stderr",
     "output_type": "stream",
     "text": [
      "ERROR parsing release date: time data '' does not match format '%Y-%m-%d'\n",
      "ERROR parsing release date: 'release_date'\n",
      "ERROR parsing release date: time data '' does not match format '%Y-%m-%d'\n"
     ]
    },
    {
     "name": "stdout",
     "output_type": "stream",
     "text": [
      "Mark Wahlberg\n",
      "Processed :  ['55', 'Mark Wahlberg']\n",
      "Danai Gurira\n",
      "Processed :  ['56', 'Danai Gurira']\n"
     ]
    },
    {
     "name": "stderr",
     "output_type": "stream",
     "text": [
      "ERROR parsing release date: time data '' does not match format '%Y-%m-%d'\n"
     ]
    },
    {
     "name": "stdout",
     "output_type": "stream",
     "text": [
      "Letitia Wright\n",
      "Processed :  ['57', 'Letitia Wright']\n"
     ]
    },
    {
     "name": "stderr",
     "output_type": "stream",
     "text": [
      "ERROR parsing release date: time data '' does not match format '%Y-%m-%d'\n",
      "ERROR parsing release date: time data '' does not match format '%Y-%m-%d'\n",
      "ERROR parsing release date: time data '' does not match format '%Y-%m-%d'\n",
      "ERROR parsing release date: time data '' does not match format '%Y-%m-%d'\n"
     ]
    },
    {
     "name": "stdout",
     "output_type": "stream",
     "text": [
      "Owen Wilson\n",
      "Processed :  ['58', 'Owen Wilson']\n"
     ]
    },
    {
     "name": "stderr",
     "output_type": "stream",
     "text": [
      "ERROR parsing release date: time data '' does not match format '%Y-%m-%d'\n",
      "ERROR parsing release date: time data '' does not match format '%Y-%m-%d'\n",
      "ERROR parsing release date: time data '' does not match format '%Y-%m-%d'\n",
      "ERROR parsing release date: 'release_date'\n"
     ]
    },
    {
     "name": "stdout",
     "output_type": "stream",
     "text": [
      "Will Ferrell\n"
     ]
    },
    {
     "name": "stderr",
     "output_type": "stream",
     "text": [
      "ERROR parsing release date: 'release_date'\n",
      "ERROR parsing release date: time data '' does not match format '%Y-%m-%d'\n"
     ]
    },
    {
     "name": "stdout",
     "output_type": "stream",
     "text": [
      "Processed :  ['59', 'Will Ferrell']\n"
     ]
    },
    {
     "name": "stderr",
     "output_type": "stream",
     "text": [
      "ERROR parsing release date: time data '' does not match format '%Y-%m-%d'\n"
     ]
    },
    {
     "name": "stdout",
     "output_type": "stream",
     "text": [
      "Morgan Freeman\n",
      "Processed :  ['60', 'Morgan Freeman']\n"
     ]
    },
    {
     "name": "stderr",
     "output_type": "stream",
     "text": [
      "ERROR parsing release date: time data '' does not match format '%Y-%m-%d'\n",
      "ERROR parsing release date: 'release_date'\n",
      "ERROR parsing release date: time data '' does not match format '%Y-%m-%d'\n",
      "ERROR parsing release date: time data '' does not match format '%Y-%m-%d'\n",
      "ERROR parsing release date: time data '' does not match format '%Y-%m-%d'\n",
      "ERROR parsing release date: time data '' does not match format '%Y-%m-%d'\n",
      "ERROR parsing release date: time data '' does not match format '%Y-%m-%d'\n"
     ]
    },
    {
     "name": "stdout",
     "output_type": "stream",
     "text": [
      "Mel Gibson\n",
      "Processed :  ['61', 'Mel Gibson']\n"
     ]
    },
    {
     "name": "stderr",
     "output_type": "stream",
     "text": [
      "ERROR parsing release date: time data '' does not match format '%Y-%m-%d'\n",
      "ERROR parsing release date: time data '' does not match format '%Y-%m-%d'\n",
      "ERROR parsing release date: time data '' does not match format '%Y-%m-%d'\n"
     ]
    },
    {
     "name": "stdout",
     "output_type": "stream",
     "text": [
      "Natalie Portman\n",
      "Processed :  ['62', 'Natalie Portman']\n"
     ]
    },
    {
     "name": "stderr",
     "output_type": "stream",
     "text": [
      "ERROR parsing release date: time data '' does not match format '%Y-%m-%d'\n",
      "ERROR parsing release date: time data '' does not match format '%Y-%m-%d'\n"
     ]
    },
    {
     "name": "stdout",
     "output_type": "stream",
     "text": [
      "George Clooney\n",
      "Processed :  ['63', 'George Clooney']\n"
     ]
    },
    {
     "name": "stderr",
     "output_type": "stream",
     "text": [
      "ERROR parsing release date: time data '' does not match format '%Y-%m-%d'\n"
     ]
    },
    {
     "name": "stdout",
     "output_type": "stream",
     "text": [
      "Mike Myers\n",
      "Processed :  ['64', 'Mike Myers']\n"
     ]
    },
    {
     "name": "stderr",
     "output_type": "stream",
     "text": [
      "ERROR parsing release date: time data '' does not match format '%Y-%m-%d'\n",
      "ERROR parsing release date: time data '' does not match format '%Y-%m-%d'\n",
      "ERROR parsing release date: time data '' does not match format '%Y-%m-%d'\n",
      "ERROR parsing release date: time data '' does not match format '%Y-%m-%d'\n",
      "ERROR parsing release date: time data '' does not match format '%Y-%m-%d'\n"
     ]
    },
    {
     "name": "stdout",
     "output_type": "stream",
     "text": [
      "Sylvester Stallone\n",
      "Processed :  ['65', 'Sylvester Stallone']\n"
     ]
    },
    {
     "name": "stderr",
     "output_type": "stream",
     "text": [
      "ERROR parsing release date: time data '' does not match format '%Y-%m-%d'\n"
     ]
    },
    {
     "name": "stdout",
     "output_type": "stream",
     "text": [
      "Christian Bale\n",
      "Processed :  ['66', 'Christian Bale']\n"
     ]
    },
    {
     "name": "stderr",
     "output_type": "stream",
     "text": [
      "ERROR parsing release date: time data '' does not match format '%Y-%m-%d'\n",
      "ERROR parsing release date: time data '' does not match format '%Y-%m-%d'\n"
     ]
    },
    {
     "name": "stdout",
     "output_type": "stream",
     "text": [
      "Meryl Streep\n",
      "Processed :  ['67', 'Meryl Streep']\n"
     ]
    },
    {
     "name": "stderr",
     "output_type": "stream",
     "text": [
      "ERROR parsing release date: time data '' does not match format '%Y-%m-%d'\n",
      "ERROR parsing release date: time data '' does not match format '%Y-%m-%d'\n",
      "ERROR parsing release date: time data '' does not match format '%Y-%m-%d'\n",
      "ERROR parsing release date: time data '' does not match format '%Y-%m-%d'\n",
      "ERROR parsing release date: time data '' does not match format '%Y-%m-%d'\n"
     ]
    },
    {
     "name": "stdout",
     "output_type": "stream",
     "text": [
      "Kevin Hart\n"
     ]
    },
    {
     "name": "stderr",
     "output_type": "stream",
     "text": [
      "ERROR parsing release date: time data '' does not match format '%Y-%m-%d'\n",
      "ERROR parsing release date: time data '' does not match format '%Y-%m-%d'\n",
      "ERROR parsing release date: time data '' does not match format '%Y-%m-%d'\n"
     ]
    },
    {
     "name": "stdout",
     "output_type": "stream",
     "text": [
      "Processed :  ['68', 'Kevin Hart']\n"
     ]
    },
    {
     "name": "stderr",
     "output_type": "stream",
     "text": [
      "ERROR parsing release date: 'release_date'\n",
      "ERROR parsing release date: 'release_date'\n",
      "ERROR parsing release date: time data '' does not match format '%Y-%m-%d'\n"
     ]
    },
    {
     "name": "stdout",
     "output_type": "stream",
     "text": [
      "Keanu Reeves\n",
      "Processed :  ['69', 'Keanu Reeves']\n"
     ]
    },
    {
     "name": "stderr",
     "output_type": "stream",
     "text": [
      "ERROR parsing release date: 'release_date'\n",
      "ERROR parsing release date: time data '' does not match format '%Y-%m-%d'\n",
      "ERROR parsing release date: time data '' does not match format '%Y-%m-%d'\n",
      "ERROR parsing release date: time data '' does not match format '%Y-%m-%d'\n",
      "ERROR parsing release date: time data '' does not match format '%Y-%m-%d'\n"
     ]
    },
    {
     "name": "stdout",
     "output_type": "stream",
     "text": [
      "Ryan Reynolds\n",
      "Processed :  ['70', 'Ryan Reynolds']\n",
      "Pom Klementieff\n",
      "Processed :  ['71', 'Pom Klementieff']\n"
     ]
    },
    {
     "name": "stderr",
     "output_type": "stream",
     "text": [
      "ERROR parsing release date: time data '' does not match format '%Y-%m-%d'\n"
     ]
    },
    {
     "name": "stdout",
     "output_type": "stream",
     "text": [
      "Shia LaBeouf\n",
      "Processed :  ['72', 'Shia LaBeouf']\n"
     ]
    },
    {
     "name": "stderr",
     "output_type": "stream",
     "text": [
      "ERROR parsing release date: time data '' does not match format '%Y-%m-%d'\n"
     ]
    },
    {
     "name": "stdout",
     "output_type": "stream",
     "text": [
      "Tim Allen\n",
      "Processed :  ['73', 'Tim Allen']\n"
     ]
    },
    {
     "name": "stderr",
     "output_type": "stream",
     "text": [
      "ERROR parsing release date: time data '' does not match format '%Y-%m-%d'\n",
      "ERROR parsing release date: time data '' does not match format '%Y-%m-%d'\n",
      "ERROR parsing release date: time data '' does not match format '%Y-%m-%d'\n"
     ]
    },
    {
     "name": "stdout",
     "output_type": "stream",
     "text": [
      "Tom Holland\n",
      "Processed :  ['74', 'Tom Holland']\n"
     ]
    },
    {
     "name": "stderr",
     "output_type": "stream",
     "text": [
      "ERROR parsing release date: time data '' does not match format '%Y-%m-%d'\n",
      "ERROR parsing release date: time data '' does not match format '%Y-%m-%d'\n",
      "ERROR parsing release date: time data '' does not match format '%Y-%m-%d'\n",
      "ERROR parsing release date: time data '' does not match format '%Y-%m-%d'\n"
     ]
    },
    {
     "name": "stdout",
     "output_type": "stream",
     "text": [
      "Channing Tatum\n",
      "Processed :  ['75', 'Channing Tatum']\n"
     ]
    },
    {
     "name": "stderr",
     "output_type": "stream",
     "text": [
      "ERROR parsing release date: 'release_date'\n",
      "ERROR processing actor bio: 'character'\n"
     ]
    },
    {
     "name": "stdout",
     "output_type": "stream",
     "text": [
      "Paul Rudd\n",
      "Clint Eastwood\n"
     ]
    },
    {
     "name": "stderr",
     "output_type": "stream",
     "text": [
      "ERROR parsing release date: time data '' does not match format '%Y-%m-%d'\n"
     ]
    },
    {
     "name": "stdout",
     "output_type": "stream",
     "text": [
      "Processed :  ['77', 'Clint Eastwood']\n"
     ]
    },
    {
     "name": "stderr",
     "output_type": "stream",
     "text": [
      "ERROR parsing release date: time data '' does not match format '%Y-%m-%d'\n"
     ]
    },
    {
     "name": "stdout",
     "output_type": "stream",
     "text": [
      "Kevin Costner\n",
      "Processed :  ['78', 'Kevin Costner']\n",
      "Dustin Hoffman\n",
      "Processed :  ['79', 'Dustin Hoffman']\n"
     ]
    },
    {
     "name": "stderr",
     "output_type": "stream",
     "text": [
      "ERROR parsing release date: time data '' does not match format '%Y-%m-%d'\n",
      "ERROR parsing release date: time data '' does not match format '%Y-%m-%d'\n"
     ]
    },
    {
     "name": "stdout",
     "output_type": "stream",
     "text": [
      "Michael Douglas\n",
      "Processed :  ['80', 'Michael Douglas']\n"
     ]
    },
    {
     "name": "stderr",
     "output_type": "stream",
     "text": [
      "ERROR parsing release date: time data '' does not match format '%Y-%m-%d'\n"
     ]
    },
    {
     "name": "stdout",
     "output_type": "stream",
     "text": [
      "Benedict Wong\n",
      "Processed :  ['81', 'Benedict Wong']\n",
      "Mark Hamill\n"
     ]
    },
    {
     "name": "stderr",
     "output_type": "stream",
     "text": [
      "ERROR parsing release date: time data '' does not match format '%Y-%m-%d'\n"
     ]
    },
    {
     "name": "stdout",
     "output_type": "stream",
     "text": [
      "Processed :  ['82', 'Mark Hamill']\n"
     ]
    },
    {
     "name": "stderr",
     "output_type": "stream",
     "text": [
      "ERROR parsing release date: time data '' does not match format '%Y-%m-%d'\n"
     ]
    },
    {
     "name": "stdout",
     "output_type": "stream",
     "text": [
      "Adam Driver\n",
      "Processed :  ['83', 'Adam Driver']\n"
     ]
    },
    {
     "name": "stderr",
     "output_type": "stream",
     "text": [
      "ERROR parsing release date: time data '' does not match format '%Y-%m-%d'\n",
      "ERROR parsing release date: time data '' does not match format '%Y-%m-%d'\n",
      "ERROR parsing release date: time data '' does not match format '%Y-%m-%d'\n",
      "ERROR parsing release date: time data '' does not match format '%Y-%m-%d'\n"
     ]
    },
    {
     "name": "stdout",
     "output_type": "stream",
     "text": [
      "Jack Black\n",
      "Processed :  ['84', 'Jack Black']\n"
     ]
    },
    {
     "name": "stderr",
     "output_type": "stream",
     "text": [
      "ERROR parsing release date: time data '' does not match format '%Y-%m-%d'\n"
     ]
    },
    {
     "name": "stdout",
     "output_type": "stream",
     "text": [
      "Carrie Fisher\n",
      "Processed :  ['85', 'Carrie Fisher']\n"
     ]
    },
    {
     "name": "stderr",
     "output_type": "stream",
     "text": [
      "ERROR parsing release date: time data '' does not match format '%Y-%m-%d'\n"
     ]
    },
    {
     "name": "stdout",
     "output_type": "stream",
     "text": [
      "Arnold Schwarzenegger\n"
     ]
    },
    {
     "name": "stderr",
     "output_type": "stream",
     "text": [
      "ERROR parsing release date: time data '' does not match format '%Y-%m-%d'\n",
      "ERROR parsing release date: time data '' does not match format '%Y-%m-%d'\n",
      "ERROR parsing release date: time data '' does not match format '%Y-%m-%d'\n"
     ]
    },
    {
     "name": "stdout",
     "output_type": "stream",
     "text": [
      "Processed :  ['86', 'Arnold Schwarzenegger']\n"
     ]
    },
    {
     "name": "stderr",
     "output_type": "stream",
     "text": [
      "ERROR parsing release date: time data '' does not match format '%Y-%m-%d'\n"
     ]
    },
    {
     "name": "stdout",
     "output_type": "stream",
     "text": [
      "Daisy Ridley\n",
      "Processed :  ['87', 'Daisy Ridley']\n"
     ]
    },
    {
     "name": "stderr",
     "output_type": "stream",
     "text": [
      "ERROR parsing release date: time data '' does not match format '%Y-%m-%d'\n",
      "ERROR parsing release date: time data '' does not match format '%Y-%m-%d'\n"
     ]
    },
    {
     "name": "stdout",
     "output_type": "stream",
     "text": [
      "Orlando Bloom\n",
      "Processed :  ['88', 'Orlando Bloom']\n"
     ]
    },
    {
     "name": "stderr",
     "output_type": "stream",
     "text": [
      "ERROR parsing release date: time data '' does not match format '%Y-%m-%d'\n",
      "ERROR parsing release date: time data '' does not match format '%Y-%m-%d'\n"
     ]
    },
    {
     "name": "stdout",
     "output_type": "stream",
     "text": [
      "John Boyega\n",
      "Processed :  ['89', 'John Boyega']\n"
     ]
    },
    {
     "name": "stderr",
     "output_type": "stream",
     "text": [
      "ERROR parsing release date: time data '' does not match format '%Y-%m-%d'\n",
      "ERROR parsing release date: time data '' does not match format '%Y-%m-%d'\n",
      "ERROR parsing release date: time data '' does not match format '%Y-%m-%d'\n",
      "ERROR parsing release date: time data '' does not match format '%Y-%m-%d'\n",
      "ERROR parsing release date: time data '' does not match format '%Y-%m-%d'\n",
      "ERROR parsing release date: time data '' does not match format '%Y-%m-%d'\n"
     ]
    },
    {
     "name": "stdout",
     "output_type": "stream",
     "text": [
      "Idris Elba\n",
      "Processed :  ['90', 'Idris Elba']\n",
      "Martin Freeman\n",
      "Processed :  ['91', 'Martin Freeman']\n",
      "Kristen Stewart\n"
     ]
    },
    {
     "name": "stderr",
     "output_type": "stream",
     "text": [
      "ERROR parsing release date: time data '' does not match format '%Y-%m-%d'\n"
     ]
    },
    {
     "name": "stdout",
     "output_type": "stream",
     "text": [
      "Processed :  ['92', 'Kristen Stewart']\n",
      "Steve Martin\n",
      "Processed :  ['93', 'Steve Martin']\n"
     ]
    },
    {
     "name": "stderr",
     "output_type": "stream",
     "text": [
      "ERROR parsing release date: time data '' does not match format '%Y-%m-%d'\n",
      "ERROR parsing release date: time data '' does not match format '%Y-%m-%d'\n",
      "ERROR parsing release date: time data '' does not match format '%Y-%m-%d'\n"
     ]
    },
    {
     "name": "stdout",
     "output_type": "stream",
     "text": [
      "Reese Witherspoon\n",
      "Processed :  ['94', 'Reese Witherspoon']\n"
     ]
    },
    {
     "name": "stderr",
     "output_type": "stream",
     "text": [
      "ERROR parsing release date: time data '' does not match format '%Y-%m-%d'\n",
      "ERROR parsing release date: time data '' does not match format '%Y-%m-%d'\n",
      "ERROR parsing release date: time data '' does not match format '%Y-%m-%d'\n"
     ]
    },
    {
     "name": "stdout",
     "output_type": "stream",
     "text": [
      "Bill Murray\n",
      "Processed :  ['95', 'Bill Murray']\n"
     ]
    },
    {
     "name": "stderr",
     "output_type": "stream",
     "text": [
      "ERROR parsing release date: time data '' does not match format '%Y-%m-%d'\n",
      "ERROR parsing release date: time data '' does not match format '%Y-%m-%d'\n",
      "ERROR parsing release date: time data '' does not match format '%Y-%m-%d'\n",
      "ERROR parsing release date: time data '' does not match format '%Y-%m-%d'\n"
     ]
    },
    {
     "name": "stdout",
     "output_type": "stream",
     "text": [
      "Chris Pine\n",
      "Processed :  ['96', 'Chris Pine']\n",
      "Jon Favreau\n",
      "Processed :  ['97', 'Jon Favreau']\n",
      "Nicole Kidman\n"
     ]
    },
    {
     "name": "stderr",
     "output_type": "stream",
     "text": [
      "ERROR parsing release date: time data '' does not match format '%Y-%m-%d'\n"
     ]
    },
    {
     "name": "stdout",
     "output_type": "stream",
     "text": [
      "Processed :  ['98', 'Nicole Kidman']\n"
     ]
    },
    {
     "name": "stderr",
     "output_type": "stream",
     "text": [
      "ERROR parsing release date: time data '' does not match format '%Y-%m-%d'\n",
      "ERROR parsing release date: time data '' does not match format '%Y-%m-%d'\n",
      "ERROR parsing release date: time data '' does not match format '%Y-%m-%d'\n",
      "ERROR parsing release date: time data '' does not match format '%Y-%m-%d'\n"
     ]
    },
    {
     "name": "stdout",
     "output_type": "stream",
     "text": [
      "Simon Pegg\n",
      "Processed :  ['99', 'Simon Pegg']\n",
      "Taylor Lautner\n",
      "Processed :  ['100', 'Taylor Lautner']\n"
     ]
    }
   ],
   "source": [
    "import http.client\n",
    "\n",
    "conn = http.client.HTTPSConnection(\"api.themoviedb.org\")\n",
    "\n",
    "for actor in actors:\n",
    "    try:\n",
    "        _actorID= actor[0]\n",
    "        actorFullName = actor[1]\n",
    "        print(actorFullName)\n",
    "        actorID = searchActor(actorFullName)\n",
    "        actorBio = getActorBio(actorID)\n",
    "        actorBio.update({'images': getActorBiometric(actorID)} )\n",
    "        actorExternalID = getActorExternalIDs(actorID)\n",
    "\n",
    "        actorCast = getActorRoles(actorID)\n",
    "        actorBio.update({'cast': actorCast})\n",
    "        actorBio.update({'_actorID': _actorID, '_source': source, 'created_utc_dt': datetime.utcnow().strftime(\"%m/%d/%Y, %H:%M:%S\")} )\n",
    "\n",
    "        f = open('./data/person/themoviedb/themoviedb_p_'+_actorID+'.json', 'w+')\n",
    "        f.write(json.dumps(actorBio))\n",
    "        f.close()\n",
    "\n",
    "        actorMovieVertex = genActorMovieVertex( _actorID, actorFullName, actorCast)\n",
    "        f2 = open('./data/cast/themoviedb/themoviedb_c_'+_actorID+'.json', 'w+')\n",
    "        f2.write(json.dumps(actorMovieVertex))\n",
    "        f2.close()\n",
    "        print('Processed : ', actor)\n",
    "        time.sleep(15)\n",
    "    except Exception as e:\n",
    "        logger.error('ERROR processing actor bio: '+ str(e))\n"
   ]
  },
  {
   "cell_type": "markdown",
   "metadata": {},
   "source": [
    "# Get Lookup code for genre"
   ]
  },
  {
   "cell_type": "code",
   "execution_count": 12,
   "metadata": {},
   "outputs": [
    {
     "data": {
      "text/plain": [
       "{'genres': [{'id': 28, 'name': 'Action'},\n",
       "  {'id': 12, 'name': 'Adventure'},\n",
       "  {'id': 16, 'name': 'Animation'},\n",
       "  {'id': 35, 'name': 'Comedy'},\n",
       "  {'id': 80, 'name': 'Crime'},\n",
       "  {'id': 99, 'name': 'Documentary'},\n",
       "  {'id': 18, 'name': 'Drama'},\n",
       "  {'id': 10751, 'name': 'Family'},\n",
       "  {'id': 14, 'name': 'Fantasy'},\n",
       "  {'id': 36, 'name': 'History'},\n",
       "  {'id': 27, 'name': 'Horror'},\n",
       "  {'id': 10402, 'name': 'Music'},\n",
       "  {'id': 9648, 'name': 'Mystery'},\n",
       "  {'id': 10749, 'name': 'Romance'},\n",
       "  {'id': 878, 'name': 'Science Fiction'},\n",
       "  {'id': 10770, 'name': 'TV Movie'},\n",
       "  {'id': 53, 'name': 'Thriller'},\n",
       "  {'id': 10752, 'name': 'War'},\n",
       "  {'id': 37, 'name': 'Western'}]}"
      ]
     },
     "execution_count": 12,
     "metadata": {},
     "output_type": "execute_result"
    }
   ],
   "source": [
    "conn = http.client.HTTPSConnection(\"api.themoviedb.org\")\n",
    "\n",
    "conn.request(\"GET\", \"/3/genre/movie/list?language=en-US&api_key={0}\".format(apikey), payload)\n",
    "res = conn.getresponse()\n",
    "data = res.read()\n",
    "data = json.loads(data)\n",
    "data"
   ]
  },
  {
   "cell_type": "markdown",
   "metadata": {},
   "source": [
    "# Download profile images and label them into a subfolder for each actor\n"
   ]
  },
  {
   "cell_type": "code",
   "execution_count": 13,
   "metadata": {},
   "outputs": [],
   "source": [
    "import os\n",
    "import sys\n",
    "import time\n",
    "from datetime import datetime\n",
    "import urllib.parse\n",
    "import urllib\n",
    "import http.client\n",
    "import json\n",
    "import pandas as pd\n",
    "conn = http.client.HTTPSConnection(\"api.themoviedb.org\")\n",
    "\n",
    "payload = \"{}\"\n",
    "\n",
    "for actor in actors:\n",
    "    try:\n",
    "        _actorID= actor[0]\n",
    "        actorFullName = actor[1]\n",
    "\n",
    "        actorID = searchActor(actorFullName)\n",
    "        images = getActorBiometric(actorID)\n",
    "        images\n",
    "        baseURL='https://image.tmdb.org/t/p/original/'\n",
    "        prefix='themoviedb_i_'+_actorID+'_'\n",
    "\n",
    "        if not os.path.exists('data/person/images/'+_actorID):\n",
    "            os.makedirs('data/person/images/'+_actorID, exist_ok=True)\n",
    "\n",
    "        for image in images:\n",
    "            image_name = image['file_path'][1:]\n",
    "            image_output = prefix+image_name\n",
    "            f = open('./data/person/images/'+_actorID+'/'+image_output,'wb')\n",
    "            f.write(urllib.request.urlopen(baseURL+image_name).read())\n",
    "            f.close()\n",
    "    except:\n",
    "        print ('Error : ', actor)"
   ]
  },
  {
   "cell_type": "code",
   "execution_count": null,
   "metadata": {},
   "outputs": [],
   "source": []
  }
 ],
 "metadata": {
  "kernelspec": {
   "display_name": "Python 3",
   "language": "python",
   "name": "python3"
  },
  "language_info": {
   "codemirror_mode": {
    "name": "ipython",
    "version": 3
   },
   "file_extension": ".py",
   "mimetype": "text/x-python",
   "name": "python",
   "nbconvert_exporter": "python",
   "pygments_lexer": "ipython3",
   "version": "3.7.3"
  }
 },
 "nbformat": 4,
 "nbformat_minor": 4
}
