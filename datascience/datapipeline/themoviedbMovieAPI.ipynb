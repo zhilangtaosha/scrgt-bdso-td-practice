{
 "cells": [
  {
   "cell_type": "markdown",
   "metadata": {},
   "source": [
    "# Extract Movie Info from TheMovieDB.org"
   ]
  },
  {
   "cell_type": "code",
   "execution_count": 1,
   "metadata": {},
   "outputs": [],
   "source": [
    "import os\n",
    "import sys\n",
    "import time\n",
    "from datetime import datetime\n",
    "import urllib.parse\n",
    "import http.client\n",
    "import json\n",
    "import pandas as pd\n",
    "conn = http.client.HTTPSConnection(\"api.themoviedb.org\")\n",
    "source = 'themovedb'\n",
    "payload = \"{}\"\n",
    "\n",
    "apikey = 'd1fe56bd9e9956f57bb056a11cdbeb6d'"
   ]
  },
  {
   "cell_type": "markdown",
   "metadata": {},
   "source": [
    "# Extract only the movies the actors were casted in "
   ]
  },
  {
   "cell_type": "code",
   "execution_count": 2,
   "metadata": {},
   "outputs": [],
   "source": [
    "path_to_json = './data/cast/themoviedb/'\n",
    "json_files = [path_to_json+pos_json for pos_json in os.listdir(path_to_json) if pos_json.endswith('.json')]\n",
    "\n",
    "df = pd.concat([pd.read_json(f , dtype=str) for f in json_files], ignore_index = True)"
   ]
  },
  {
   "cell_type": "code",
   "execution_count": 3,
   "metadata": {},
   "outputs": [
    {
     "name": "stderr",
     "output_type": "stream",
     "text": [
      "//anaconda3/lib/python3.7/site-packages/ipykernel_launcher.py:2: SettingWithCopyWarning: \n",
      "A value is trying to be set on a copy of a slice from a DataFrame\n",
      "\n",
      "See the caveats in the documentation: http://pandas.pydata.org/pandas-docs/stable/indexing.html#indexing-view-versus-copy\n",
      "  \n"
     ]
    }
   ],
   "source": [
    "movieDF = df[['movieID','movieTitle']]\n",
    "movieDF.drop_duplicates(keep = False, inplace = True) "
   ]
  },
  {
   "cell_type": "markdown",
   "metadata": {},
   "source": [
    "# Define API to theMovieDB.org and export the movie to a json.\n",
    "\n",
    "* Each Json filename is labeled with the <source name>_m_<movieID>.json\n",
    "* Each json file will also tag the source of the data and the UTC create date\n",
    "* We will use themoviedb.org ID as our own internal id for the movie.\n"
   ]
  },
  {
   "cell_type": "code",
   "execution_count": 4,
   "metadata": {},
   "outputs": [],
   "source": [
    "\n",
    "def getMovieInfo(movieID):\n",
    "    \n",
    "    conn.request(\"GET\", \"/3/movie/{0}?language=en-US&api_key={1}\".format(movieID, apikey), payload)\n",
    "    res = conn.getresponse()\n",
    "    data = res.read()\n",
    "    data = json.loads(data)\n",
    "    return data"
   ]
  },
  {
   "cell_type": "code",
   "execution_count": null,
   "metadata": {},
   "outputs": [],
   "source": [
    "import os\n",
    "import sys\n",
    "import time\n",
    "from datetime import datetime\n",
    "import urllib.parse\n",
    "import http.client\n",
    "import json\n",
    "import logging\n",
    "logger = logging.getLogger('movieInfo')\n",
    "logger.setLevel(logging.INFO)\n",
    "\n",
    "import pandas as pd\n",
    "conn = http.client.HTTPSConnection(\"api.themoviedb.org\")\n",
    "source = 'themovedb'\n",
    "payload = \"{}\"\n",
    "\n",
    "apikey = 'd1fe56bd9e9956f57bb056a11cdbeb6d'\n",
    "\n",
    "for index, row in movieDF.iterrows():\n",
    "\n",
    "    try:\n",
    "        _movieID = row['movieID']\n",
    "        movieInfo = getMovieInfo(_movieID)\n",
    "        release_date=  int( datetime.strptime(movieInfo['release_date'].strip(), '%Y-%m-%d').strftime('%Y%m%d'))\n",
    "        if release_date>=20090601 and release_date <= 20190601:\n",
    "            movieInfo.update({'_movieID':_movieID,'_source': source, 'created_utc_dt': datetime.utcnow().strftime(\"%m/%d/%Y, %H:%M:%S\")} )\n",
    "            f = open('./data/movies/themoviedb/themoviedb_m_'+_movieID+'.json', 'w+')\n",
    "            f.write(json.dumps(movieInfo))\n",
    "            f.close()\n",
    "        time.sleep(5)\n",
    "    except Exception as e:\n",
    "        logger.error('Failed to upload to ftp: '+ str(e))\n",
    "        print('Error retriving movie ', row['movieTitle'])"
   ]
  },
  {
   "cell_type": "code",
   "execution_count": null,
   "metadata": {},
   "outputs": [],
   "source": []
  },
  {
   "cell_type": "code",
   "execution_count": null,
   "metadata": {},
   "outputs": [],
   "source": []
  }
 ],
 "metadata": {
  "kernelspec": {
   "display_name": "Python 3",
   "language": "python",
   "name": "python3"
  },
  "language_info": {
   "codemirror_mode": {
    "name": "ipython",
    "version": 3
   },
   "file_extension": ".py",
   "mimetype": "text/x-python",
   "name": "python",
   "nbconvert_exporter": "python",
   "pygments_lexer": "ipython3",
   "version": "3.7.3"
  }
 },
 "nbformat": 4,
 "nbformat_minor": 4
}
